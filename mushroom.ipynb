{
 "cells": [
  {
   "cell_type": "code",
   "execution_count": null,
   "metadata": {},
   "outputs": [],
   "source": [
    "mushroom = Dataloader(None, None, 'mushroom', None, None)\n",
    "print(f\"Exporting mushroom to python... \")\n",
    "data = mushroom.export_to_python()"
   ]
  },
  {
   "cell_type": "code",
   "execution_count": null,
   "metadata": {},
   "outputs": [],
   "source": [
    "C = 10.0\n",
    "clf_mushroom = SVC(kernel = 'linear', C = C)\n",
    "X_shape = mushroom.X_train_shape\n",
    "X_train = data[0]\n",
    "y_train = data[1]\n",
    "y = array_to_matrix(y_train,2)\n",
    "X = array_to_matrix(X_train,X_shape[1])\n",
    "y = np.array([np.argmax(np.append(i,0)) for i in y])\n",
    "clf_mushroom.fit(X, y) \n"
   ]
  }
 ],
 "metadata": {
  "language_info": {
   "name": "python"
  }
 },
 "nbformat": 4,
 "nbformat_minor": 2
}
