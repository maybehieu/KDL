{
 "cells": [
  {
   "cell_type": "code",
   "execution_count": 31,
   "metadata": {},
   "outputs": [],
   "source": [
    "from utils import Dataloader\n",
    "from sklearn.svm import SVC\n",
    "import matplotlib.pyplot as plt\n",
    "import numpy as np\n",
    "from sklearn.metrics import accuracy_score,precision_score, recall_score, f1_score\n",
    "from sklearn.neural_network import MLPClassifier\n",
    "import time"
   ]
  },
  {
   "cell_type": "code",
   "execution_count": 32,
   "metadata": {},
   "outputs": [],
   "source": [
    "def array_to_matrix(arr, n_cols):\n",
    "    n_rows = len(arr) // n_cols\n",
    "    return np.array(arr).reshape(n_rows, n_cols)"
   ]
  },
  {
   "cell_type": "markdown",
   "metadata": {},
   "source": [
    "## Iris Dataset"
   ]
  },
  {
   "cell_type": "code",
   "execution_count": 33,
   "metadata": {},
   "outputs": [],
   "source": [
    "mlp  = MLPClassifier(hidden_layer_sizes=(15,),activation='relu', solver='adam', random_state=1, max_iter=1000)"
   ]
  },
  {
   "cell_type": "code",
   "execution_count": 34,
   "metadata": {},
   "outputs": [
    {
     "name": "stdout",
     "output_type": "stream",
     "text": [
      "fetching iris dataset\n",
      "(150, 4) (150,)\n",
      "Dataset:  iris\n",
      "X_train:  [[ 0.35866332 -0.62068428  1.1364712   0.91401319]\n",
      " [ 0.20204178 -0.19845007  0.85894465  0.91401319]]\n",
      "y_train:  [[-1.  1.]\n",
      " [-1.  1.]]\n",
      "X_test:  [[ 0.82852793 -0.83180138  1.55276101  1.44644806]\n",
      " [ 0.04542025 -1.67626978  0.78956302  0.91401319]]\n",
      "y_test:  [[-1.  1.]\n",
      " [-1.  1.]]\n",
      "(80, 4) (80, 2) (20, 4) (20, 2)\n",
      "Exporting iris to python... \n",
      "Training time: 0.14083600044250488 seconds\n"
     ]
    }
   ],
   "source": [
    "loader = Dataloader(None, None, 'iris', 'Iris-setosa', 'Iris-versicolor')\n",
    "print(f\"Exporting iris to python... \")\n",
    "data = loader.export_to_python()\n",
    "X_shape = loader.X_train_shape\n",
    "X_train = data[0]\n",
    "y_train = data[1]\n",
    "y = array_to_matrix(y_train,2)\n",
    "X = array_to_matrix(X_train,X_shape[1])\n",
    "y = np.array([np.argmax(np.append(i,0)) for i in y])\n",
    "start_time = time.time()\n",
    "mlp.fit(X, y) \n",
    "training_time = time.time() - start_time\n",
    "print(\"Training time:\", training_time, \"seconds\")"
   ]
  },
  {
   "cell_type": "code",
   "execution_count": 35,
   "metadata": {},
   "outputs": [
    {
     "name": "stdout",
     "output_type": "stream",
     "text": [
      "[array([[-0.35297048,  0.44391404, -0.82510799,  0.04153432, -0.26860699,\n",
      "        -0.27195885, -0.15362867,  0.06308722, -0.38500938, -0.22596106,\n",
      "         0.08527406,  0.15075137, -0.17032114,  0.6440161 , -0.41715672],\n",
      "       [ 0.35360069, -0.34610438,  0.30470719, -0.65129466, -0.65326245,\n",
      "         0.20379115,  0.21654416, -0.44240148,  0.42794984,  0.65136556,\n",
      "         0.21565553, -0.42316617, -0.65101561, -0.65065123,  0.31440501],\n",
      "       [-0.70243307,  0.14668797,  0.24091665,  0.34158174,  0.38448402,\n",
      "        -0.02516094,  0.45430318,  0.63890263, -0.81114658,  0.00856872,\n",
      "         0.74977342,  0.22959075, -0.07208679,  0.58660082, -0.33149689],\n",
      "       [-0.30533588,  0.70093634, -0.5048161 ,  0.06499411, -0.25485232,\n",
      "        -0.36020616,  0.44724131, -0.0613669 , -0.53207225, -0.28462148,\n",
      "        -0.2993805 ,  0.0349138 , -0.22450733,  0.36885316,  0.33857177]]), array([[-0.72994492],\n",
      "       [ 0.80702747],\n",
      "       [-0.51139793],\n",
      "       [ 0.66585486],\n",
      "       [ 0.19043734],\n",
      "       [ 0.31255266],\n",
      "       [ 0.39182482],\n",
      "       [ 0.7061645 ],\n",
      "       [-0.42516704],\n",
      "       [-0.72604109],\n",
      "       [ 0.5271612 ],\n",
      "       [ 0.03915059],\n",
      "       [ 0.42226679],\n",
      "       [ 0.44959529],\n",
      "       [ 0.01396734]])]\n"
     ]
    }
   ],
   "source": [
    "weights = mlp.coefs_\n",
    "print(weights)"
   ]
  },
  {
   "cell_type": "code",
   "execution_count": 36,
   "metadata": {},
   "outputs": [
    {
     "name": "stdout",
     "output_type": "stream",
     "text": [
      "[1 1 1 0 0 0 0 1 0 0 0 0 1 0 1 0 1 1 0 0]\n",
      "Accuracy: 1.0\n"
     ]
    }
   ],
   "source": [
    "X_test = array_to_matrix(data[2],X_shape[1])\n",
    "y_test = array_to_matrix(data[3],2)\n",
    "y_test = np.array([np.argmax(np.append(i,0)) for i in y_test])\n",
    "\n",
    "y_pred = mlp.predict(X_test)\n",
    "accuracy = accuracy_score(y_test, y_pred)\n",
    "print(y_pred)\n",
    "print(\"Accuracy:\", accuracy)"
   ]
  },
  {
   "cell_type": "code",
   "execution_count": 37,
   "metadata": {},
   "outputs": [
    {
     "name": "stdout",
     "output_type": "stream",
     "text": [
      "Precision: 1.0\n",
      "Recall: 1.0\n",
      "F1-score: 1.0\n"
     ]
    }
   ],
   "source": [
    "precision = precision_score(y_test, y_pred)\n",
    "recall = recall_score(y_test, y_pred)\n",
    "f1 = f1_score(y_test, y_pred)\n",
    "\n",
    "print(\"Precision:\", precision)\n",
    "print(\"Recall:\", recall)\n",
    "print(\"F1-score:\", f1)"
   ]
  },
  {
   "cell_type": "markdown",
   "metadata": {},
   "source": [
    "## Mushroom Dataset"
   ]
  },
  {
   "cell_type": "code",
   "execution_count": 38,
   "metadata": {},
   "outputs": [
    {
     "name": "stdout",
     "output_type": "stream",
     "text": [
      "fetching mushroom dataset\n",
      "Dataset:  mushroom\n",
      "X_train:  [[-0.21699152  0.14012794 -0.98389939 -0.84322964  1.3573133   0.16289645\n",
      "  -0.43886364  1.49468272 -1.35889624  0.87351064  1.35578135  0.68377765\n",
      "  -0.89305291  0.0965768   0.63199138  0.          0.14203663 -0.25613174\n",
      "  -1.27221574  1.42842641  0.28432981 -0.8771691 ]\n",
      " [ 1.02971224  0.14012794 -0.19824983 -0.84322964 -1.01956488  0.16289645\n",
      "  -0.43886364  1.49468272 -1.35889624  0.87351064  1.35578135 -0.9254372\n",
      "   0.58638466  0.62244139  0.63199138  0.          0.14203663 -0.25613174\n",
      "  -1.27221574  1.42842641  0.28432981  1.44858865]]\n",
      "y_train:  [[-1.  1.]\n",
      " [-1.  1.]]\n",
      "X_test:  [[-0.8403434  -1.48615695 -0.19824983 -0.84322964  0.40656203  0.16289645\n",
      "   2.27861212 -0.66903831 -0.51147238  0.87351064  0.20869036  0.68377765\n",
      "  -2.37249048  0.62244139  0.63199138  0.          0.14203663 -0.25613174\n",
      "  -1.27221574 -0.2504706  -0.5143892  -0.29572966]\n",
      " [-0.8403434   0.14012794 -0.98389939 -0.84322964  1.83268894  0.16289645\n",
      "  -0.43886364  1.49468272 -1.35889624  0.87351064  1.35578135  0.68377765\n",
      "   0.58638466  0.0965768   0.10765539  0.          0.14203663 -0.25613174\n",
      "  -1.27221574  1.42842641  0.28432981  0.28570978]]\n",
      "y_test:  [[ 1. -1.]\n",
      " [-1.  1.]]\n",
      "(6499, 22) (6499, 2) (1625, 22) (1625, 2)\n",
      "Exporting mushroom to python... \n"
     ]
    },
    {
     "name": "stderr",
     "output_type": "stream",
     "text": [
      "c:\\Users\\ACER\\Documents\\AI\\KDL\\KDL\\utils.py:184: SettingWithCopyWarning: \n",
      "A value is trying to be set on a copy of a slice from a DataFrame.\n",
      "Try using .loc[row_indexer,col_indexer] = value instead\n",
      "\n",
      "See the caveats in the documentation: https://pandas.pydata.org/pandas-docs/stable/user_guide/indexing.html#returning-a-view-versus-a-copy\n",
      "  X.loc[:, col] = le.fit_transform(X[col])\n",
      "c:\\Users\\ACER\\Documents\\AI\\KDL\\KDL\\utils.py:184: SettingWithCopyWarning: \n",
      "A value is trying to be set on a copy of a slice from a DataFrame.\n",
      "Try using .loc[row_indexer,col_indexer] = value instead\n",
      "\n",
      "See the caveats in the documentation: https://pandas.pydata.org/pandas-docs/stable/user_guide/indexing.html#returning-a-view-versus-a-copy\n",
      "  X.loc[:, col] = le.fit_transform(X[col])\n",
      "c:\\Users\\ACER\\Documents\\AI\\KDL\\KDL\\utils.py:184: SettingWithCopyWarning: \n",
      "A value is trying to be set on a copy of a slice from a DataFrame.\n",
      "Try using .loc[row_indexer,col_indexer] = value instead\n",
      "\n",
      "See the caveats in the documentation: https://pandas.pydata.org/pandas-docs/stable/user_guide/indexing.html#returning-a-view-versus-a-copy\n",
      "  X.loc[:, col] = le.fit_transform(X[col])\n",
      "c:\\Users\\ACER\\Documents\\AI\\KDL\\KDL\\utils.py:184: SettingWithCopyWarning: \n",
      "A value is trying to be set on a copy of a slice from a DataFrame.\n",
      "Try using .loc[row_indexer,col_indexer] = value instead\n",
      "\n",
      "See the caveats in the documentation: https://pandas.pydata.org/pandas-docs/stable/user_guide/indexing.html#returning-a-view-versus-a-copy\n",
      "  X.loc[:, col] = le.fit_transform(X[col])\n",
      "c:\\Users\\ACER\\Documents\\AI\\KDL\\KDL\\utils.py:184: SettingWithCopyWarning: \n",
      "A value is trying to be set on a copy of a slice from a DataFrame.\n",
      "Try using .loc[row_indexer,col_indexer] = value instead\n",
      "\n",
      "See the caveats in the documentation: https://pandas.pydata.org/pandas-docs/stable/user_guide/indexing.html#returning-a-view-versus-a-copy\n",
      "  X.loc[:, col] = le.fit_transform(X[col])\n",
      "c:\\Users\\ACER\\Documents\\AI\\KDL\\KDL\\utils.py:184: SettingWithCopyWarning: \n",
      "A value is trying to be set on a copy of a slice from a DataFrame.\n",
      "Try using .loc[row_indexer,col_indexer] = value instead\n",
      "\n",
      "See the caveats in the documentation: https://pandas.pydata.org/pandas-docs/stable/user_guide/indexing.html#returning-a-view-versus-a-copy\n",
      "  X.loc[:, col] = le.fit_transform(X[col])\n",
      "c:\\Users\\ACER\\Documents\\AI\\KDL\\KDL\\utils.py:184: SettingWithCopyWarning: \n",
      "A value is trying to be set on a copy of a slice from a DataFrame.\n",
      "Try using .loc[row_indexer,col_indexer] = value instead\n",
      "\n",
      "See the caveats in the documentation: https://pandas.pydata.org/pandas-docs/stable/user_guide/indexing.html#returning-a-view-versus-a-copy\n",
      "  X.loc[:, col] = le.fit_transform(X[col])\n",
      "c:\\Users\\ACER\\Documents\\AI\\KDL\\KDL\\utils.py:184: SettingWithCopyWarning: \n",
      "A value is trying to be set on a copy of a slice from a DataFrame.\n",
      "Try using .loc[row_indexer,col_indexer] = value instead\n",
      "\n",
      "See the caveats in the documentation: https://pandas.pydata.org/pandas-docs/stable/user_guide/indexing.html#returning-a-view-versus-a-copy\n",
      "  X.loc[:, col] = le.fit_transform(X[col])\n",
      "c:\\Users\\ACER\\Documents\\AI\\KDL\\KDL\\utils.py:184: SettingWithCopyWarning: \n",
      "A value is trying to be set on a copy of a slice from a DataFrame.\n",
      "Try using .loc[row_indexer,col_indexer] = value instead\n",
      "\n",
      "See the caveats in the documentation: https://pandas.pydata.org/pandas-docs/stable/user_guide/indexing.html#returning-a-view-versus-a-copy\n",
      "  X.loc[:, col] = le.fit_transform(X[col])\n",
      "c:\\Users\\ACER\\Documents\\AI\\KDL\\KDL\\utils.py:184: SettingWithCopyWarning: \n",
      "A value is trying to be set on a copy of a slice from a DataFrame.\n",
      "Try using .loc[row_indexer,col_indexer] = value instead\n",
      "\n",
      "See the caveats in the documentation: https://pandas.pydata.org/pandas-docs/stable/user_guide/indexing.html#returning-a-view-versus-a-copy\n",
      "  X.loc[:, col] = le.fit_transform(X[col])\n",
      "c:\\Users\\ACER\\Documents\\AI\\KDL\\KDL\\utils.py:184: SettingWithCopyWarning: \n",
      "A value is trying to be set on a copy of a slice from a DataFrame.\n",
      "Try using .loc[row_indexer,col_indexer] = value instead\n",
      "\n",
      "See the caveats in the documentation: https://pandas.pydata.org/pandas-docs/stable/user_guide/indexing.html#returning-a-view-versus-a-copy\n",
      "  X.loc[:, col] = le.fit_transform(X[col])\n",
      "c:\\Users\\ACER\\Documents\\AI\\KDL\\KDL\\utils.py:184: SettingWithCopyWarning: \n",
      "A value is trying to be set on a copy of a slice from a DataFrame.\n",
      "Try using .loc[row_indexer,col_indexer] = value instead\n",
      "\n",
      "See the caveats in the documentation: https://pandas.pydata.org/pandas-docs/stable/user_guide/indexing.html#returning-a-view-versus-a-copy\n",
      "  X.loc[:, col] = le.fit_transform(X[col])\n",
      "c:\\Users\\ACER\\Documents\\AI\\KDL\\KDL\\utils.py:184: SettingWithCopyWarning: \n",
      "A value is trying to be set on a copy of a slice from a DataFrame.\n",
      "Try using .loc[row_indexer,col_indexer] = value instead\n",
      "\n",
      "See the caveats in the documentation: https://pandas.pydata.org/pandas-docs/stable/user_guide/indexing.html#returning-a-view-versus-a-copy\n",
      "  X.loc[:, col] = le.fit_transform(X[col])\n",
      "c:\\Users\\ACER\\Documents\\AI\\KDL\\KDL\\utils.py:184: SettingWithCopyWarning: \n",
      "A value is trying to be set on a copy of a slice from a DataFrame.\n",
      "Try using .loc[row_indexer,col_indexer] = value instead\n",
      "\n",
      "See the caveats in the documentation: https://pandas.pydata.org/pandas-docs/stable/user_guide/indexing.html#returning-a-view-versus-a-copy\n",
      "  X.loc[:, col] = le.fit_transform(X[col])\n",
      "c:\\Users\\ACER\\Documents\\AI\\KDL\\KDL\\utils.py:184: SettingWithCopyWarning: \n",
      "A value is trying to be set on a copy of a slice from a DataFrame.\n",
      "Try using .loc[row_indexer,col_indexer] = value instead\n",
      "\n",
      "See the caveats in the documentation: https://pandas.pydata.org/pandas-docs/stable/user_guide/indexing.html#returning-a-view-versus-a-copy\n",
      "  X.loc[:, col] = le.fit_transform(X[col])\n",
      "c:\\Users\\ACER\\Documents\\AI\\KDL\\KDL\\utils.py:184: SettingWithCopyWarning: \n",
      "A value is trying to be set on a copy of a slice from a DataFrame.\n",
      "Try using .loc[row_indexer,col_indexer] = value instead\n",
      "\n",
      "See the caveats in the documentation: https://pandas.pydata.org/pandas-docs/stable/user_guide/indexing.html#returning-a-view-versus-a-copy\n",
      "  X.loc[:, col] = le.fit_transform(X[col])\n",
      "c:\\Users\\ACER\\Documents\\AI\\KDL\\KDL\\utils.py:184: SettingWithCopyWarning: \n",
      "A value is trying to be set on a copy of a slice from a DataFrame.\n",
      "Try using .loc[row_indexer,col_indexer] = value instead\n",
      "\n",
      "See the caveats in the documentation: https://pandas.pydata.org/pandas-docs/stable/user_guide/indexing.html#returning-a-view-versus-a-copy\n",
      "  X.loc[:, col] = le.fit_transform(X[col])\n",
      "c:\\Users\\ACER\\Documents\\AI\\KDL\\KDL\\utils.py:184: SettingWithCopyWarning: \n",
      "A value is trying to be set on a copy of a slice from a DataFrame.\n",
      "Try using .loc[row_indexer,col_indexer] = value instead\n",
      "\n",
      "See the caveats in the documentation: https://pandas.pydata.org/pandas-docs/stable/user_guide/indexing.html#returning-a-view-versus-a-copy\n",
      "  X.loc[:, col] = le.fit_transform(X[col])\n",
      "c:\\Users\\ACER\\Documents\\AI\\KDL\\KDL\\utils.py:184: SettingWithCopyWarning: \n",
      "A value is trying to be set on a copy of a slice from a DataFrame.\n",
      "Try using .loc[row_indexer,col_indexer] = value instead\n",
      "\n",
      "See the caveats in the documentation: https://pandas.pydata.org/pandas-docs/stable/user_guide/indexing.html#returning-a-view-versus-a-copy\n",
      "  X.loc[:, col] = le.fit_transform(X[col])\n",
      "c:\\Users\\ACER\\Documents\\AI\\KDL\\KDL\\utils.py:184: SettingWithCopyWarning: \n",
      "A value is trying to be set on a copy of a slice from a DataFrame.\n",
      "Try using .loc[row_indexer,col_indexer] = value instead\n",
      "\n",
      "See the caveats in the documentation: https://pandas.pydata.org/pandas-docs/stable/user_guide/indexing.html#returning-a-view-versus-a-copy\n",
      "  X.loc[:, col] = le.fit_transform(X[col])\n",
      "c:\\Users\\ACER\\Documents\\AI\\KDL\\KDL\\utils.py:184: SettingWithCopyWarning: \n",
      "A value is trying to be set on a copy of a slice from a DataFrame.\n",
      "Try using .loc[row_indexer,col_indexer] = value instead\n",
      "\n",
      "See the caveats in the documentation: https://pandas.pydata.org/pandas-docs/stable/user_guide/indexing.html#returning-a-view-versus-a-copy\n",
      "  X.loc[:, col] = le.fit_transform(X[col])\n",
      "c:\\Users\\ACER\\Documents\\AI\\KDL\\KDL\\utils.py:184: SettingWithCopyWarning: \n",
      "A value is trying to be set on a copy of a slice from a DataFrame.\n",
      "Try using .loc[row_indexer,col_indexer] = value instead\n",
      "\n",
      "See the caveats in the documentation: https://pandas.pydata.org/pandas-docs/stable/user_guide/indexing.html#returning-a-view-versus-a-copy\n",
      "  X.loc[:, col] = le.fit_transform(X[col])\n"
     ]
    }
   ],
   "source": [
    "mushroom = Dataloader(None, None, 'mushroom', None, None)\n",
    "print(f\"Exporting mushroom to python... \")\n",
    "data = mushroom.export_to_python()"
   ]
  },
  {
   "cell_type": "code",
   "execution_count": 39,
   "metadata": {},
   "outputs": [
    {
     "data": {
      "text/html": [
       "<style>#sk-container-id-5 {color: black;background-color: white;}#sk-container-id-5 pre{padding: 0;}#sk-container-id-5 div.sk-toggleable {background-color: white;}#sk-container-id-5 label.sk-toggleable__label {cursor: pointer;display: block;width: 100%;margin-bottom: 0;padding: 0.3em;box-sizing: border-box;text-align: center;}#sk-container-id-5 label.sk-toggleable__label-arrow:before {content: \"▸\";float: left;margin-right: 0.25em;color: #696969;}#sk-container-id-5 label.sk-toggleable__label-arrow:hover:before {color: black;}#sk-container-id-5 div.sk-estimator:hover label.sk-toggleable__label-arrow:before {color: black;}#sk-container-id-5 div.sk-toggleable__content {max-height: 0;max-width: 0;overflow: hidden;text-align: left;background-color: #f0f8ff;}#sk-container-id-5 div.sk-toggleable__content pre {margin: 0.2em;color: black;border-radius: 0.25em;background-color: #f0f8ff;}#sk-container-id-5 input.sk-toggleable__control:checked~div.sk-toggleable__content {max-height: 200px;max-width: 100%;overflow: auto;}#sk-container-id-5 input.sk-toggleable__control:checked~label.sk-toggleable__label-arrow:before {content: \"▾\";}#sk-container-id-5 div.sk-estimator input.sk-toggleable__control:checked~label.sk-toggleable__label {background-color: #d4ebff;}#sk-container-id-5 div.sk-label input.sk-toggleable__control:checked~label.sk-toggleable__label {background-color: #d4ebff;}#sk-container-id-5 input.sk-hidden--visually {border: 0;clip: rect(1px 1px 1px 1px);clip: rect(1px, 1px, 1px, 1px);height: 1px;margin: -1px;overflow: hidden;padding: 0;position: absolute;width: 1px;}#sk-container-id-5 div.sk-estimator {font-family: monospace;background-color: #f0f8ff;border: 1px dotted black;border-radius: 0.25em;box-sizing: border-box;margin-bottom: 0.5em;}#sk-container-id-5 div.sk-estimator:hover {background-color: #d4ebff;}#sk-container-id-5 div.sk-parallel-item::after {content: \"\";width: 100%;border-bottom: 1px solid gray;flex-grow: 1;}#sk-container-id-5 div.sk-label:hover label.sk-toggleable__label {background-color: #d4ebff;}#sk-container-id-5 div.sk-serial::before {content: \"\";position: absolute;border-left: 1px solid gray;box-sizing: border-box;top: 0;bottom: 0;left: 50%;z-index: 0;}#sk-container-id-5 div.sk-serial {display: flex;flex-direction: column;align-items: center;background-color: white;padding-right: 0.2em;padding-left: 0.2em;position: relative;}#sk-container-id-5 div.sk-item {position: relative;z-index: 1;}#sk-container-id-5 div.sk-parallel {display: flex;align-items: stretch;justify-content: center;background-color: white;position: relative;}#sk-container-id-5 div.sk-item::before, #sk-container-id-5 div.sk-parallel-item::before {content: \"\";position: absolute;border-left: 1px solid gray;box-sizing: border-box;top: 0;bottom: 0;left: 50%;z-index: -1;}#sk-container-id-5 div.sk-parallel-item {display: flex;flex-direction: column;z-index: 1;position: relative;background-color: white;}#sk-container-id-5 div.sk-parallel-item:first-child::after {align-self: flex-end;width: 50%;}#sk-container-id-5 div.sk-parallel-item:last-child::after {align-self: flex-start;width: 50%;}#sk-container-id-5 div.sk-parallel-item:only-child::after {width: 0;}#sk-container-id-5 div.sk-dashed-wrapped {border: 1px dashed gray;margin: 0 0.4em 0.5em 0.4em;box-sizing: border-box;padding-bottom: 0.4em;background-color: white;}#sk-container-id-5 div.sk-label label {font-family: monospace;font-weight: bold;display: inline-block;line-height: 1.2em;}#sk-container-id-5 div.sk-label-container {text-align: center;}#sk-container-id-5 div.sk-container {/* jupyter's `normalize.less` sets `[hidden] { display: none; }` but bootstrap.min.css set `[hidden] { display: none !important; }` so we also need the `!important` here to be able to override the default hidden behavior on the sphinx rendered scikit-learn.org. See: https://github.com/scikit-learn/scikit-learn/issues/21755 */display: inline-block !important;position: relative;}#sk-container-id-5 div.sk-text-repr-fallback {display: none;}</style><div id=\"sk-container-id-5\" class=\"sk-top-container\"><div class=\"sk-text-repr-fallback\"><pre>MLPClassifier(hidden_layer_sizes=(150, 100, 2), max_iter=1000, random_state=1)</pre><b>In a Jupyter environment, please rerun this cell to show the HTML representation or trust the notebook. <br />On GitHub, the HTML representation is unable to render, please try loading this page with nbviewer.org.</b></div><div class=\"sk-container\" hidden><div class=\"sk-item\"><div class=\"sk-estimator sk-toggleable\"><input class=\"sk-toggleable__control sk-hidden--visually\" id=\"sk-estimator-id-5\" type=\"checkbox\" checked><label for=\"sk-estimator-id-5\" class=\"sk-toggleable__label sk-toggleable__label-arrow\">MLPClassifier</label><div class=\"sk-toggleable__content\"><pre>MLPClassifier(hidden_layer_sizes=(150, 100, 2), max_iter=1000, random_state=1)</pre></div></div></div></div></div>"
      ],
      "text/plain": [
       "MLPClassifier(hidden_layer_sizes=(150, 100, 2), max_iter=1000, random_state=1)"
      ]
     },
     "execution_count": 39,
     "metadata": {},
     "output_type": "execute_result"
    }
   ],
   "source": [
    "\n",
    "mlp_mushroom = MLPClassifier(hidden_layer_sizes=(150, 100, 2), activation='relu', solver='adam', random_state=1, max_iter=1000)\n",
    "\n",
    "\n",
    "X_shape = mushroom.X_train_shape\n",
    "X_train = data[0]\n",
    "y_train = data[1]\n",
    "y = array_to_matrix(y_train,2)\n",
    "X = array_to_matrix(X_train,X_shape[1])\n",
    "y = np.array([np.argmax(np.append(i,0)) for i in y])\n",
    "mlp_mushroom.fit(X, y) "
   ]
  },
  {
   "cell_type": "code",
   "execution_count": 40,
   "metadata": {},
   "outputs": [
    {
     "name": "stdout",
     "output_type": "stream",
     "text": [
      "Layer 0:\n",
      "(22, 150)\n",
      "[[ 0.0131376   0.03998562 -0.18037662 ...  0.04450626 -0.01342022\n",
      "  -0.1195383 ]\n",
      " [-0.15994502  0.22369445  0.03859364 ... -0.16688084  0.09223547\n",
      "  -0.20753536]\n",
      " [ 0.13641009  0.09459517  0.09516024 ...  0.1098084  -0.12645936\n",
      "  -0.13853506]\n",
      " ...\n",
      " [-0.09929346  0.2491696  -0.1683041  ...  0.09814125 -0.12037137\n",
      "  -0.01471266]\n",
      " [ 0.04189706 -0.19416033 -0.13614087 ...  0.06211131 -0.05387941\n",
      "  -0.01377934]\n",
      " [-0.25315747  0.11082844 -0.13093246 ...  0.11035356  0.1130053\n",
      "  -0.01772727]]\n",
      "Layer 1:\n",
      "(150, 100)\n",
      "[[-0.12636975  0.01174368  0.0347975  ...  0.02286907  0.07791981\n",
      "   0.16876462]\n",
      " [ 0.04343723  0.0968511   0.1459661  ... -0.11465372  0.28807324\n",
      "   0.03849301]\n",
      " [-0.04617692  0.06319465  0.10339182 ... -0.0883273   0.06149404\n",
      "   0.07767751]\n",
      " ...\n",
      " [-0.06468736 -0.17063213 -0.09269732 ...  0.14419992 -0.14307824\n",
      "   0.12197697]\n",
      " [ 0.14592579  0.08663419  0.04052191 ...  0.04811937 -0.1006657\n",
      "  -0.05503967]\n",
      " [-0.03929291  0.13198818 -0.21959739 ...  0.06815766 -0.04903912\n",
      "   0.01123894]]\n",
      "Layer 2:\n",
      "(100, 2)\n",
      "[[-0.21038192 -0.34039486]\n",
      " [ 0.15920478  0.19069948]\n",
      " [ 0.34397877  0.25092513]\n",
      " [ 0.09704224 -0.13680719]\n",
      " [ 0.2826751   0.39149721]\n",
      " [-0.330069   -0.22204142]\n",
      " [ 0.22473588  0.11036221]\n",
      " [-0.08446614  0.19413231]\n",
      " [-0.26137844 -0.15166803]\n",
      " [-0.190525   -0.17842566]\n",
      " [-0.25376872  0.16271158]\n",
      " [-0.26414445 -0.23095157]\n",
      " [ 0.31367114 -0.07964859]\n",
      " [-0.20607557 -0.06723016]\n",
      " [ 0.29724127  0.2557566 ]\n",
      " [ 0.38662716  0.24148997]\n",
      " [-0.05143849  0.12884407]\n",
      " [-0.24624429 -0.33924381]\n",
      " [-0.22446619 -0.20158338]\n",
      " [ 0.1989559   0.21307892]\n",
      " [-0.07082592  0.17223172]\n",
      " [-0.21525887 -0.11029708]\n",
      " [-0.26970831 -0.06819496]\n",
      " [ 0.23053564  0.24941157]\n",
      " [-0.17102682 -0.17009962]\n",
      " [-0.19392065  0.04455406]\n",
      " [-0.18069767 -0.00067927]\n",
      " [-0.00827682 -0.22098093]\n",
      " [-0.15077962 -0.16234859]\n",
      " [ 0.21042581 -0.06593684]\n",
      " [-0.23866266 -0.32181963]\n",
      " [-0.18156176  0.25713173]\n",
      " [-0.13444765 -0.30535558]\n",
      " [ 0.30989448  0.22622548]\n",
      " [ 0.28646198 -0.15658568]\n",
      " [-0.30234126 -0.10835107]\n",
      " [ 0.04437692 -0.29878847]\n",
      " [ 0.01589658  0.24589571]\n",
      " [ 0.17452223  0.13595796]\n",
      " [ 0.30618895  0.20903725]\n",
      " [ 0.36666377  0.05246665]\n",
      " [ 0.03345931 -0.02755349]\n",
      " [ 0.16501299  0.17487805]\n",
      " [ 0.20387662  0.25530672]\n",
      " [ 0.30378378 -0.15507185]\n",
      " [ 0.08009663 -0.06326893]\n",
      " [ 0.09600278  0.29990226]\n",
      " [-0.16628395 -0.19566421]\n",
      " [ 0.32414016  0.28775248]\n",
      " [ 0.02311331 -0.15880956]\n",
      " [ 0.1968842  -0.02182188]\n",
      " [ 0.20740685  0.26046406]\n",
      " [-0.3565817  -0.20331884]\n",
      " [ 0.49401554  0.28955887]\n",
      " [ 0.30488777  0.18884541]\n",
      " [ 0.23433914  0.35231128]\n",
      " [-0.08728851 -0.19045044]\n",
      " [ 0.27961705  0.2854623 ]\n",
      " [-0.34389806 -0.14701311]\n",
      " [ 0.06403175  0.24590263]\n",
      " [-0.13128481  0.13920445]\n",
      " [ 0.34443349  0.41864718]\n",
      " [ 0.30925936  0.17592517]\n",
      " [ 0.5371878   0.38084198]\n",
      " [ 0.07080118  0.28017339]\n",
      " [ 0.3227252  -0.04749796]\n",
      " [ 0.17088036  0.19765293]\n",
      " [ 0.33885716  0.19146319]\n",
      " [ 0.16003867  0.2290238 ]\n",
      " [-0.09469175  0.22640925]\n",
      " [ 0.13175425  0.38051265]\n",
      " [-0.09978087  0.08766508]\n",
      " [-0.12404151 -0.36248958]\n",
      " [-0.35682007 -0.22833302]\n",
      " [-0.16331574  0.31577046]\n",
      " [-0.18110326  0.14040968]\n",
      " [-0.23623487 -0.28420279]\n",
      " [ 0.29628677 -0.04655973]\n",
      " [-0.31643289 -0.33454804]\n",
      " [ 0.34685461  0.33908429]\n",
      " [ 0.11191123 -0.23504397]\n",
      " [-0.25400736  0.04709549]\n",
      " [ 0.34466217  0.24974397]\n",
      " [-0.24585696 -0.31108442]\n",
      " [-0.18222265  0.27932307]\n",
      " [ 0.41244284  0.24902684]\n",
      " [-0.136385   -0.06369559]\n",
      " [-0.37610792 -0.07396251]\n",
      " [ 0.00872028 -0.19861324]\n",
      " [-0.10082732 -0.23750866]\n",
      " [-0.01504236  0.29311009]\n",
      " [ 0.29342831 -0.14970384]\n",
      " [-0.21822611  0.17105441]\n",
      " [ 0.22363403  0.29797106]\n",
      " [ 0.12760271  0.31537939]\n",
      " [-0.10330825 -0.22839853]\n",
      " [ 0.24027166  0.14695987]\n",
      " [-0.29041908 -0.10126853]\n",
      " [ 0.3129172   0.41735126]\n",
      " [ 0.27590801 -0.12276888]]\n",
      "Layer 3:\n",
      "(2, 1)\n",
      "[[0.99420299]\n",
      " [0.65667236]]\n"
     ]
    }
   ],
   "source": [
    "# Lấy danh sách các lớp của mạng nơ-ron\n",
    "layers = mlp_mushroom.coefs_\n",
    "\n",
    "# In các trọng số của từng lớp\n",
    "for i, layer in enumerate(layers):\n",
    "    print(f\"Layer {i}:\")\n",
    "    print(layer.shape)\n",
    "    print(layer)\n"
   ]
  },
  {
   "cell_type": "code",
   "execution_count": 41,
   "metadata": {},
   "outputs": [
    {
     "name": "stdout",
     "output_type": "stream",
     "text": [
      "[0 1 1 ... 1 1 1]\n",
      "Accuracy: 1.0\n"
     ]
    }
   ],
   "source": [
    "X_test = array_to_matrix(data[2],X_shape[1])\n",
    "y_test = array_to_matrix(data[3],2)\n",
    "y_test = np.array([np.argmax(np.append(i,0)) for i in y_test])\n",
    "\n",
    "y_pred = mlp_mushroom.predict(X_test)\n",
    "accuracy = accuracy_score(y_test, y_pred)\n",
    "print(y_pred)\n",
    "print(\"Accuracy:\", accuracy)"
   ]
  },
  {
   "cell_type": "code",
   "execution_count": 42,
   "metadata": {},
   "outputs": [
    {
     "name": "stdout",
     "output_type": "stream",
     "text": [
      "Precision: 1.0\n",
      "Recall: 1.0\n",
      "F1-score: 1.0\n"
     ]
    }
   ],
   "source": [
    "precision = precision_score(y_test, y_pred)\n",
    "recall = recall_score(y_test, y_pred)\n",
    "f1 = f1_score(y_test, y_pred)\n",
    "\n",
    "print(\"Precision:\", precision)\n",
    "print(\"Recall:\", recall)\n",
    "print(\"F1-score:\", f1)"
   ]
  },
  {
   "cell_type": "markdown",
   "metadata": {},
   "source": [
    "## MNIST dataset"
   ]
  },
  {
   "cell_type": "code",
   "execution_count": 43,
   "metadata": {},
   "outputs": [
    {
     "name": "stdout",
     "output_type": "stream",
     "text": [
      "Dataset:  mnist\n",
      "X_train:  [[0. 0. 0. ... 0. 0. 0.]\n",
      " [0. 0. 0. ... 0. 0. 0.]]\n",
      "y_train:  [[ 1. -1.]\n",
      " [-1.  1.]]\n",
      "X_test:  [[0. 0. 0. ... 0. 0. 0.]\n",
      " [0. 0. 0. ... 0. 0. 0.]]\n",
      "y_test:  [[-1.  1.]\n",
      " [ 1. -1.]]\n",
      "(11881, 784) (11881, 2) (2012, 784) (2012, 2)\n",
      "Exporting mnist to python... \n"
     ]
    }
   ],
   "source": [
    "mnist = Dataloader(None, None, 'mnist', None, None)\n",
    "print(f\"Exporting mnist to python... \")\n",
    "data = mnist.export_to_python()"
   ]
  },
  {
   "cell_type": "code",
   "execution_count": 44,
   "metadata": {},
   "outputs": [
    {
     "data": {
      "text/html": [
       "<style>#sk-container-id-6 {color: black;background-color: white;}#sk-container-id-6 pre{padding: 0;}#sk-container-id-6 div.sk-toggleable {background-color: white;}#sk-container-id-6 label.sk-toggleable__label {cursor: pointer;display: block;width: 100%;margin-bottom: 0;padding: 0.3em;box-sizing: border-box;text-align: center;}#sk-container-id-6 label.sk-toggleable__label-arrow:before {content: \"▸\";float: left;margin-right: 0.25em;color: #696969;}#sk-container-id-6 label.sk-toggleable__label-arrow:hover:before {color: black;}#sk-container-id-6 div.sk-estimator:hover label.sk-toggleable__label-arrow:before {color: black;}#sk-container-id-6 div.sk-toggleable__content {max-height: 0;max-width: 0;overflow: hidden;text-align: left;background-color: #f0f8ff;}#sk-container-id-6 div.sk-toggleable__content pre {margin: 0.2em;color: black;border-radius: 0.25em;background-color: #f0f8ff;}#sk-container-id-6 input.sk-toggleable__control:checked~div.sk-toggleable__content {max-height: 200px;max-width: 100%;overflow: auto;}#sk-container-id-6 input.sk-toggleable__control:checked~label.sk-toggleable__label-arrow:before {content: \"▾\";}#sk-container-id-6 div.sk-estimator input.sk-toggleable__control:checked~label.sk-toggleable__label {background-color: #d4ebff;}#sk-container-id-6 div.sk-label input.sk-toggleable__control:checked~label.sk-toggleable__label {background-color: #d4ebff;}#sk-container-id-6 input.sk-hidden--visually {border: 0;clip: rect(1px 1px 1px 1px);clip: rect(1px, 1px, 1px, 1px);height: 1px;margin: -1px;overflow: hidden;padding: 0;position: absolute;width: 1px;}#sk-container-id-6 div.sk-estimator {font-family: monospace;background-color: #f0f8ff;border: 1px dotted black;border-radius: 0.25em;box-sizing: border-box;margin-bottom: 0.5em;}#sk-container-id-6 div.sk-estimator:hover {background-color: #d4ebff;}#sk-container-id-6 div.sk-parallel-item::after {content: \"\";width: 100%;border-bottom: 1px solid gray;flex-grow: 1;}#sk-container-id-6 div.sk-label:hover label.sk-toggleable__label {background-color: #d4ebff;}#sk-container-id-6 div.sk-serial::before {content: \"\";position: absolute;border-left: 1px solid gray;box-sizing: border-box;top: 0;bottom: 0;left: 50%;z-index: 0;}#sk-container-id-6 div.sk-serial {display: flex;flex-direction: column;align-items: center;background-color: white;padding-right: 0.2em;padding-left: 0.2em;position: relative;}#sk-container-id-6 div.sk-item {position: relative;z-index: 1;}#sk-container-id-6 div.sk-parallel {display: flex;align-items: stretch;justify-content: center;background-color: white;position: relative;}#sk-container-id-6 div.sk-item::before, #sk-container-id-6 div.sk-parallel-item::before {content: \"\";position: absolute;border-left: 1px solid gray;box-sizing: border-box;top: 0;bottom: 0;left: 50%;z-index: -1;}#sk-container-id-6 div.sk-parallel-item {display: flex;flex-direction: column;z-index: 1;position: relative;background-color: white;}#sk-container-id-6 div.sk-parallel-item:first-child::after {align-self: flex-end;width: 50%;}#sk-container-id-6 div.sk-parallel-item:last-child::after {align-self: flex-start;width: 50%;}#sk-container-id-6 div.sk-parallel-item:only-child::after {width: 0;}#sk-container-id-6 div.sk-dashed-wrapped {border: 1px dashed gray;margin: 0 0.4em 0.5em 0.4em;box-sizing: border-box;padding-bottom: 0.4em;background-color: white;}#sk-container-id-6 div.sk-label label {font-family: monospace;font-weight: bold;display: inline-block;line-height: 1.2em;}#sk-container-id-6 div.sk-label-container {text-align: center;}#sk-container-id-6 div.sk-container {/* jupyter's `normalize.less` sets `[hidden] { display: none; }` but bootstrap.min.css set `[hidden] { display: none !important; }` so we also need the `!important` here to be able to override the default hidden behavior on the sphinx rendered scikit-learn.org. See: https://github.com/scikit-learn/scikit-learn/issues/21755 */display: inline-block !important;position: relative;}#sk-container-id-6 div.sk-text-repr-fallback {display: none;}</style><div id=\"sk-container-id-6\" class=\"sk-top-container\"><div class=\"sk-text-repr-fallback\"><pre>MLPClassifier(hidden_layer_sizes=(150, 100, 2), max_iter=1000, random_state=1)</pre><b>In a Jupyter environment, please rerun this cell to show the HTML representation or trust the notebook. <br />On GitHub, the HTML representation is unable to render, please try loading this page with nbviewer.org.</b></div><div class=\"sk-container\" hidden><div class=\"sk-item\"><div class=\"sk-estimator sk-toggleable\"><input class=\"sk-toggleable__control sk-hidden--visually\" id=\"sk-estimator-id-6\" type=\"checkbox\" checked><label for=\"sk-estimator-id-6\" class=\"sk-toggleable__label sk-toggleable__label-arrow\">MLPClassifier</label><div class=\"sk-toggleable__content\"><pre>MLPClassifier(hidden_layer_sizes=(150, 100, 2), max_iter=1000, random_state=1)</pre></div></div></div></div></div>"
      ],
      "text/plain": [
       "MLPClassifier(hidden_layer_sizes=(150, 100, 2), max_iter=1000, random_state=1)"
      ]
     },
     "execution_count": 44,
     "metadata": {},
     "output_type": "execute_result"
    }
   ],
   "source": [
    "\n",
    "mlp_mnist = MLPClassifier(hidden_layer_sizes=(150, 100, 2), activation='relu', solver='adam', random_state=1, max_iter=1000)\n",
    "X_shape = mnist.X_train_shape\n",
    "X_train = data[0]\n",
    "y_train = data[1]\n",
    "y = array_to_matrix(y_train,2)\n",
    "X = array_to_matrix(X_train,X_shape[1])\n",
    "y = np.array([np.argmax(np.append(i,0)) for i in y])\n",
    "mlp_mnist.fit(X, y) "
   ]
  },
  {
   "cell_type": "code",
   "execution_count": 45,
   "metadata": {},
   "outputs": [
    {
     "name": "stdout",
     "output_type": "stream",
     "text": [
      "Layer 0:\n",
      "(22, 150)\n",
      "[[ 0.0131376   0.03998562 -0.18037662 ...  0.04450626 -0.01342022\n",
      "  -0.1195383 ]\n",
      " [-0.15994502  0.22369445  0.03859364 ... -0.16688084  0.09223547\n",
      "  -0.20753536]\n",
      " [ 0.13641009  0.09459517  0.09516024 ...  0.1098084  -0.12645936\n",
      "  -0.13853506]\n",
      " ...\n",
      " [-0.09929346  0.2491696  -0.1683041  ...  0.09814125 -0.12037137\n",
      "  -0.01471266]\n",
      " [ 0.04189706 -0.19416033 -0.13614087 ...  0.06211131 -0.05387941\n",
      "  -0.01377934]\n",
      " [-0.25315747  0.11082844 -0.13093246 ...  0.11035356  0.1130053\n",
      "  -0.01772727]]\n",
      "Layer 1:\n",
      "(150, 100)\n",
      "[[-0.12636975  0.01174368  0.0347975  ...  0.02286907  0.07791981\n",
      "   0.16876462]\n",
      " [ 0.04343723  0.0968511   0.1459661  ... -0.11465372  0.28807324\n",
      "   0.03849301]\n",
      " [-0.04617692  0.06319465  0.10339182 ... -0.0883273   0.06149404\n",
      "   0.07767751]\n",
      " ...\n",
      " [-0.06468736 -0.17063213 -0.09269732 ...  0.14419992 -0.14307824\n",
      "   0.12197697]\n",
      " [ 0.14592579  0.08663419  0.04052191 ...  0.04811937 -0.1006657\n",
      "  -0.05503967]\n",
      " [-0.03929291  0.13198818 -0.21959739 ...  0.06815766 -0.04903912\n",
      "   0.01123894]]\n",
      "Layer 2:\n",
      "(100, 2)\n",
      "[[-0.21038192 -0.34039486]\n",
      " [ 0.15920478  0.19069948]\n",
      " [ 0.34397877  0.25092513]\n",
      " [ 0.09704224 -0.13680719]\n",
      " [ 0.2826751   0.39149721]\n",
      " [-0.330069   -0.22204142]\n",
      " [ 0.22473588  0.11036221]\n",
      " [-0.08446614  0.19413231]\n",
      " [-0.26137844 -0.15166803]\n",
      " [-0.190525   -0.17842566]\n",
      " [-0.25376872  0.16271158]\n",
      " [-0.26414445 -0.23095157]\n",
      " [ 0.31367114 -0.07964859]\n",
      " [-0.20607557 -0.06723016]\n",
      " [ 0.29724127  0.2557566 ]\n",
      " [ 0.38662716  0.24148997]\n",
      " [-0.05143849  0.12884407]\n",
      " [-0.24624429 -0.33924381]\n",
      " [-0.22446619 -0.20158338]\n",
      " [ 0.1989559   0.21307892]\n",
      " [-0.07082592  0.17223172]\n",
      " [-0.21525887 -0.11029708]\n",
      " [-0.26970831 -0.06819496]\n",
      " [ 0.23053564  0.24941157]\n",
      " [-0.17102682 -0.17009962]\n",
      " [-0.19392065  0.04455406]\n",
      " [-0.18069767 -0.00067927]\n",
      " [-0.00827682 -0.22098093]\n",
      " [-0.15077962 -0.16234859]\n",
      " [ 0.21042581 -0.06593684]\n",
      " [-0.23866266 -0.32181963]\n",
      " [-0.18156176  0.25713173]\n",
      " [-0.13444765 -0.30535558]\n",
      " [ 0.30989448  0.22622548]\n",
      " [ 0.28646198 -0.15658568]\n",
      " [-0.30234126 -0.10835107]\n",
      " [ 0.04437692 -0.29878847]\n",
      " [ 0.01589658  0.24589571]\n",
      " [ 0.17452223  0.13595796]\n",
      " [ 0.30618895  0.20903725]\n",
      " [ 0.36666377  0.05246665]\n",
      " [ 0.03345931 -0.02755349]\n",
      " [ 0.16501299  0.17487805]\n",
      " [ 0.20387662  0.25530672]\n",
      " [ 0.30378378 -0.15507185]\n",
      " [ 0.08009663 -0.06326893]\n",
      " [ 0.09600278  0.29990226]\n",
      " [-0.16628395 -0.19566421]\n",
      " [ 0.32414016  0.28775248]\n",
      " [ 0.02311331 -0.15880956]\n",
      " [ 0.1968842  -0.02182188]\n",
      " [ 0.20740685  0.26046406]\n",
      " [-0.3565817  -0.20331884]\n",
      " [ 0.49401554  0.28955887]\n",
      " [ 0.30488777  0.18884541]\n",
      " [ 0.23433914  0.35231128]\n",
      " [-0.08728851 -0.19045044]\n",
      " [ 0.27961705  0.2854623 ]\n",
      " [-0.34389806 -0.14701311]\n",
      " [ 0.06403175  0.24590263]\n",
      " [-0.13128481  0.13920445]\n",
      " [ 0.34443349  0.41864718]\n",
      " [ 0.30925936  0.17592517]\n",
      " [ 0.5371878   0.38084198]\n",
      " [ 0.07080118  0.28017339]\n",
      " [ 0.3227252  -0.04749796]\n",
      " [ 0.17088036  0.19765293]\n",
      " [ 0.33885716  0.19146319]\n",
      " [ 0.16003867  0.2290238 ]\n",
      " [-0.09469175  0.22640925]\n",
      " [ 0.13175425  0.38051265]\n",
      " [-0.09978087  0.08766508]\n",
      " [-0.12404151 -0.36248958]\n",
      " [-0.35682007 -0.22833302]\n",
      " [-0.16331574  0.31577046]\n",
      " [-0.18110326  0.14040968]\n",
      " [-0.23623487 -0.28420279]\n",
      " [ 0.29628677 -0.04655973]\n",
      " [-0.31643289 -0.33454804]\n",
      " [ 0.34685461  0.33908429]\n",
      " [ 0.11191123 -0.23504397]\n",
      " [-0.25400736  0.04709549]\n",
      " [ 0.34466217  0.24974397]\n",
      " [-0.24585696 -0.31108442]\n",
      " [-0.18222265  0.27932307]\n",
      " [ 0.41244284  0.24902684]\n",
      " [-0.136385   -0.06369559]\n",
      " [-0.37610792 -0.07396251]\n",
      " [ 0.00872028 -0.19861324]\n",
      " [-0.10082732 -0.23750866]\n",
      " [-0.01504236  0.29311009]\n",
      " [ 0.29342831 -0.14970384]\n",
      " [-0.21822611  0.17105441]\n",
      " [ 0.22363403  0.29797106]\n",
      " [ 0.12760271  0.31537939]\n",
      " [-0.10330825 -0.22839853]\n",
      " [ 0.24027166  0.14695987]\n",
      " [-0.29041908 -0.10126853]\n",
      " [ 0.3129172   0.41735126]\n",
      " [ 0.27590801 -0.12276888]]\n",
      "Layer 3:\n",
      "(2, 1)\n",
      "[[0.99420299]\n",
      " [0.65667236]]\n"
     ]
    }
   ],
   "source": [
    "# Lấy danh sách các lớp của mạng nơ-ron\n",
    "layers = mlp_mushroom.coefs_\n",
    "\n",
    "# In các trọng số của từng lớp\n",
    "for i, layer in enumerate(layers):\n",
    "    print(f\"Layer {i}:\")\n",
    "    print(layer.shape)\n",
    "    print(layer)\n"
   ]
  },
  {
   "cell_type": "code",
   "execution_count": 46,
   "metadata": {},
   "outputs": [
    {
     "name": "stdout",
     "output_type": "stream",
     "text": [
      "(11881, 784)\n",
      "[1 0 0 ... 1 0 1]\n",
      "Accuracy: 0.9935387673956262\n"
     ]
    }
   ],
   "source": [
    "X_test = array_to_matrix(data[2],X_shape[1])\n",
    "y_test = array_to_matrix(data[3],2)\n",
    "y_test = np.array([np.argmax(np.append(i,0)) for i in y_test])\n",
    "print(X_shape)\n",
    "y_pred = mlp_mnist.predict(X_test)\n",
    "accuracy = accuracy_score(y_test, y_pred)\n",
    "print(y_pred)\n",
    "print(\"Accuracy:\", accuracy)"
   ]
  },
  {
   "cell_type": "code",
   "execution_count": 47,
   "metadata": {},
   "outputs": [
    {
     "name": "stdout",
     "output_type": "stream",
     "text": [
      "Precision: 0.9970731707317073\n",
      "Recall: 0.9903100775193798\n",
      "F1-score: 0.9936801166747691\n"
     ]
    }
   ],
   "source": [
    "precision = precision_score(y_test, y_pred)\n",
    "recall = recall_score(y_test, y_pred)\n",
    "f1 = f1_score(y_test, y_pred)\n",
    "\n",
    "print(\"Precision:\", precision)\n",
    "print(\"Recall:\", recall)\n",
    "print(\"F1-score:\", f1)"
   ]
  }
 ],
 "metadata": {
  "kernelspec": {
   "display_name": "pj",
   "language": "python",
   "name": "python3"
  },
  "language_info": {
   "codemirror_mode": {
    "name": "ipython",
    "version": 3
   },
   "file_extension": ".py",
   "mimetype": "text/x-python",
   "name": "python",
   "nbconvert_exporter": "python",
   "pygments_lexer": "ipython3",
   "version": "3.10.9"
  }
 },
 "nbformat": 4,
 "nbformat_minor": 2
}
