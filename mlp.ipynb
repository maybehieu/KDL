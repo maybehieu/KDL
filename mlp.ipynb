{
 "cells": [
  {
   "cell_type": "code",
   "execution_count": 12,
   "metadata": {},
   "outputs": [],
   "source": [
    "from utils import Dataloader\n",
    "from sklearn.svm import SVC\n",
    "import matplotlib.pyplot as plt\n",
    "import numpy as np\n",
    "from sklearn.metrics import accuracy_score,precision_score, recall_score, f1_score\n",
    "from sklearn.neural_network import MLPClassifier\n",
    "import time"
   ]
  },
  {
   "cell_type": "code",
   "execution_count": 13,
   "metadata": {},
   "outputs": [],
   "source": [
    "def array_to_matrix(arr, n_cols):\n",
    "    n_rows = len(arr) // n_cols\n",
    "    return np.array(arr).reshape(n_rows, n_cols)"
   ]
  },
  {
   "cell_type": "markdown",
   "metadata": {},
   "source": [
    "## Iris Dataset"
   ]
  },
  {
   "cell_type": "code",
   "execution_count": 26,
   "metadata": {},
   "outputs": [],
   "source": [
    "mlp  = MLPClassifier(hidden_layer_sizes=(15,),activation='relu', solver='adam', random_state=1, max_iter=1000)"
   ]
  },
  {
   "cell_type": "markdown",
   "metadata": {},
   "source": [
    "Iris-setosa + Iris-versicolor"
   ]
  },
  {
   "cell_type": "code",
   "execution_count": 4,
   "metadata": {},
   "outputs": [
    {
     "name": "stdout",
     "output_type": "stream",
     "text": [
      "fetching iris dataset\n",
      "(150, 4) (150,)\n",
      "Dataset:  iris\n",
      "X_train:  [[ 0.35866332 -0.62068428  1.1364712   0.91401319]\n",
      " [ 0.20204178 -0.19845007  0.85894465  0.91401319]]\n",
      "y_train:  [[-1.  1.]\n",
      " [-1.  1.]]\n",
      "X_test:  [[ 0.82852793 -0.83180138  1.55276101  1.44644806]\n",
      " [ 0.04542025 -1.67626978  0.78956302  0.91401319]]\n",
      "y_test:  [[-1.  1.]\n",
      " [-1.  1.]]\n",
      "(80, 4) (80, 2) (20, 4) (20, 2)\n",
      "Exporting iris to python... \n",
      "Training time: 0.5158557891845703 seconds\n"
     ]
    }
   ],
   "source": [
    "loader = Dataloader(None, None, 'iris', 'Iris-setosa', 'Iris-versicolor')\n",
    "print(f\"Exporting iris to python... \")\n",
    "data = loader.export_to_python()\n",
    "X_shape = loader.X_train_shape\n",
    "X_train = data[0]\n",
    "y_train = data[1]\n",
    "y = array_to_matrix(y_train,2)\n",
    "X = array_to_matrix(X_train,X_shape[1])\n",
    "y = np.array([np.argmax(np.append(i,0)) for i in y])\n",
    "start_time = time.time()\n",
    "mlp.fit(X, y) \n",
    "training_time = time.time() - start_time\n",
    "print(\"Training time:\", training_time, \"seconds\")"
   ]
  },
  {
   "cell_type": "code",
   "execution_count": 5,
   "metadata": {},
   "outputs": [
    {
     "name": "stdout",
     "output_type": "stream",
     "text": [
      "Layer 0:\n",
      "(4, 15)\n",
      "Layer 1:\n",
      "(15, 1)\n"
     ]
    }
   ],
   "source": [
    "weights = mlp.coefs_\n",
    "for i, layer in enumerate(weights):\n",
    "    print(f\"Layer {i}:\")\n",
    "    print(layer.shape)\n",
    "# print(weights)"
   ]
  },
  {
   "cell_type": "code",
   "execution_count": 6,
   "metadata": {},
   "outputs": [
    {
     "name": "stdout",
     "output_type": "stream",
     "text": [
      "[1 1 1 0 0 0 0 1 0 0 0 0 1 0 1 0 1 1 0 0]\n",
      "Accuracy: 1.0\n"
     ]
    }
   ],
   "source": [
    "X_test = array_to_matrix(data[2],X_shape[1])\n",
    "y_test = array_to_matrix(data[3],2)\n",
    "y_test = np.array([np.argmax(np.append(i,0)) for i in y_test])\n",
    "\n",
    "y_pred = mlp.predict(X_test)\n",
    "accuracy = accuracy_score(y_test, y_pred)\n",
    "print(y_pred)\n",
    "print(\"Accuracy:\", accuracy)"
   ]
  },
  {
   "cell_type": "code",
   "execution_count": 7,
   "metadata": {},
   "outputs": [
    {
     "name": "stdout",
     "output_type": "stream",
     "text": [
      "Precision: 1.0\n",
      "Recall: 1.0\n",
      "F1-score: 1.0\n"
     ]
    }
   ],
   "source": [
    "precision = precision_score(y_test, y_pred)\n",
    "recall = recall_score(y_test, y_pred)\n",
    "f1 = f1_score(y_test, y_pred)\n",
    "\n",
    "print(\"Precision:\", precision)\n",
    "print(\"Recall:\", recall)\n",
    "print(\"F1-score:\", f1)"
   ]
  },
  {
   "cell_type": "code",
   "execution_count": 8,
   "metadata": {},
   "outputs": [
    {
     "name": "stdout",
     "output_type": "stream",
     "text": [
      "[[ 0.82852793 -0.83180138  1.55276101  1.44644806]\n",
      " [ 0.04542025 -1.67626978  0.78956302  0.91401319]\n",
      " [ 0.6719064   0.22378413  1.3446161   1.80140464]\n",
      " [-1.05093052 -0.19845007 -1.01435952 -0.8607697 ]\n",
      " [-0.5810659   1.49048673 -0.66745134 -0.68329141]\n",
      " [-0.5810659   0.64601833 -0.94497788 -1.03824799]\n",
      " [-1.36417359  1.06825253 -1.29188606 -1.03824799]\n",
      " [ 0.04542025 -1.46515268  0.65079974  0.55905661]\n",
      " [-0.11120129  1.27936963 -0.94497788 -1.03824799]\n",
      " [-0.5810659   0.85713543 -1.01435952 -1.03824799]\n",
      " [ 0.35866332  1.49048673 -0.80621461 -0.8607697 ]\n",
      " [-1.05093052  0.01266703 -0.87559625 -1.03824799]\n",
      " [ 0.98514947 -0.62068428  1.27523447  0.7365349 ]\n",
      " [ 0.04542025  2.33495513 -1.01435952 -1.03824799]\n",
      " [ 0.04542025 -1.04291848  1.06708956  0.7365349 ]\n",
      " [-0.73768744  1.06825253 -1.01435952 -1.03824799]\n",
      " [ 2.08150023 -0.62068428  1.3446161   1.09149148]\n",
      " [ 1.92487869 -0.19845007  1.48337938  1.62392635]\n",
      " [-1.05093052 -0.19845007 -1.01435952 -1.21572628]\n",
      " [-0.11120129  0.64601833 -0.94497788 -0.68329141]]\n",
      "[1 1 1 0 0 0 0 1 0 0 0 0 1 0 1 0 1 1 0 0]\n"
     ]
    }
   ],
   "source": [
    "print(X_test)\n",
    "print(y_test)"
   ]
  },
  {
   "cell_type": "markdown",
   "metadata": {},
   "source": [
    "Iris-virginica Iris-versicolor"
   ]
  },
  {
   "cell_type": "code",
   "execution_count": 27,
   "metadata": {},
   "outputs": [
    {
     "name": "stdout",
     "output_type": "stream",
     "text": [
      "fetching iris dataset\n",
      "(150, 4) (150,)\n",
      "Dataset:  iris\n",
      "X_train:  [[ 2.02877297  0.38660992  2.06223168  1.00321947]\n",
      " [-0.39726347  0.38660992 -0.12904165  0.29339437]]\n",
      "y_train:  [[-1.  1.]\n",
      " [-1.  1.]]\n",
      "X_test:  [[ 0.05761837 -0.21746808  0.23617057 -0.41643072]\n",
      " [ 0.05761837  0.08457092  0.84485761  0.29339437]]\n",
      "y_test:  [[-1.  1.]\n",
      " [-1.  1.]]\n",
      "(80, 4) (80, 2) (20, 4) (20, 2)\n",
      "Exporting iris to python... \n"
     ]
    },
    {
     "data": {
      "text/html": [
       "<style>#sk-container-id-4 {color: black;background-color: white;}#sk-container-id-4 pre{padding: 0;}#sk-container-id-4 div.sk-toggleable {background-color: white;}#sk-container-id-4 label.sk-toggleable__label {cursor: pointer;display: block;width: 100%;margin-bottom: 0;padding: 0.3em;box-sizing: border-box;text-align: center;}#sk-container-id-4 label.sk-toggleable__label-arrow:before {content: \"▸\";float: left;margin-right: 0.25em;color: #696969;}#sk-container-id-4 label.sk-toggleable__label-arrow:hover:before {color: black;}#sk-container-id-4 div.sk-estimator:hover label.sk-toggleable__label-arrow:before {color: black;}#sk-container-id-4 div.sk-toggleable__content {max-height: 0;max-width: 0;overflow: hidden;text-align: left;background-color: #f0f8ff;}#sk-container-id-4 div.sk-toggleable__content pre {margin: 0.2em;color: black;border-radius: 0.25em;background-color: #f0f8ff;}#sk-container-id-4 input.sk-toggleable__control:checked~div.sk-toggleable__content {max-height: 200px;max-width: 100%;overflow: auto;}#sk-container-id-4 input.sk-toggleable__control:checked~label.sk-toggleable__label-arrow:before {content: \"▾\";}#sk-container-id-4 div.sk-estimator input.sk-toggleable__control:checked~label.sk-toggleable__label {background-color: #d4ebff;}#sk-container-id-4 div.sk-label input.sk-toggleable__control:checked~label.sk-toggleable__label {background-color: #d4ebff;}#sk-container-id-4 input.sk-hidden--visually {border: 0;clip: rect(1px 1px 1px 1px);clip: rect(1px, 1px, 1px, 1px);height: 1px;margin: -1px;overflow: hidden;padding: 0;position: absolute;width: 1px;}#sk-container-id-4 div.sk-estimator {font-family: monospace;background-color: #f0f8ff;border: 1px dotted black;border-radius: 0.25em;box-sizing: border-box;margin-bottom: 0.5em;}#sk-container-id-4 div.sk-estimator:hover {background-color: #d4ebff;}#sk-container-id-4 div.sk-parallel-item::after {content: \"\";width: 100%;border-bottom: 1px solid gray;flex-grow: 1;}#sk-container-id-4 div.sk-label:hover label.sk-toggleable__label {background-color: #d4ebff;}#sk-container-id-4 div.sk-serial::before {content: \"\";position: absolute;border-left: 1px solid gray;box-sizing: border-box;top: 0;bottom: 0;left: 50%;z-index: 0;}#sk-container-id-4 div.sk-serial {display: flex;flex-direction: column;align-items: center;background-color: white;padding-right: 0.2em;padding-left: 0.2em;position: relative;}#sk-container-id-4 div.sk-item {position: relative;z-index: 1;}#sk-container-id-4 div.sk-parallel {display: flex;align-items: stretch;justify-content: center;background-color: white;position: relative;}#sk-container-id-4 div.sk-item::before, #sk-container-id-4 div.sk-parallel-item::before {content: \"\";position: absolute;border-left: 1px solid gray;box-sizing: border-box;top: 0;bottom: 0;left: 50%;z-index: -1;}#sk-container-id-4 div.sk-parallel-item {display: flex;flex-direction: column;z-index: 1;position: relative;background-color: white;}#sk-container-id-4 div.sk-parallel-item:first-child::after {align-self: flex-end;width: 50%;}#sk-container-id-4 div.sk-parallel-item:last-child::after {align-self: flex-start;width: 50%;}#sk-container-id-4 div.sk-parallel-item:only-child::after {width: 0;}#sk-container-id-4 div.sk-dashed-wrapped {border: 1px dashed gray;margin: 0 0.4em 0.5em 0.4em;box-sizing: border-box;padding-bottom: 0.4em;background-color: white;}#sk-container-id-4 div.sk-label label {font-family: monospace;font-weight: bold;display: inline-block;line-height: 1.2em;}#sk-container-id-4 div.sk-label-container {text-align: center;}#sk-container-id-4 div.sk-container {/* jupyter's `normalize.less` sets `[hidden] { display: none; }` but bootstrap.min.css set `[hidden] { display: none !important; }` so we also need the `!important` here to be able to override the default hidden behavior on the sphinx rendered scikit-learn.org. See: https://github.com/scikit-learn/scikit-learn/issues/21755 */display: inline-block !important;position: relative;}#sk-container-id-4 div.sk-text-repr-fallback {display: none;}</style><div id=\"sk-container-id-4\" class=\"sk-top-container\"><div class=\"sk-text-repr-fallback\"><pre>MLPClassifier(hidden_layer_sizes=(15,), max_iter=1000, random_state=1)</pre><b>In a Jupyter environment, please rerun this cell to show the HTML representation or trust the notebook. <br />On GitHub, the HTML representation is unable to render, please try loading this page with nbviewer.org.</b></div><div class=\"sk-container\" hidden><div class=\"sk-item\"><div class=\"sk-estimator sk-toggleable\"><input class=\"sk-toggleable__control sk-hidden--visually\" id=\"sk-estimator-id-4\" type=\"checkbox\" checked><label for=\"sk-estimator-id-4\" class=\"sk-toggleable__label sk-toggleable__label-arrow\">MLPClassifier</label><div class=\"sk-toggleable__content\"><pre>MLPClassifier(hidden_layer_sizes=(15,), max_iter=1000, random_state=1)</pre></div></div></div></div></div>"
      ],
      "text/plain": [
       "MLPClassifier(hidden_layer_sizes=(15,), max_iter=1000, random_state=1)"
      ]
     },
     "execution_count": 27,
     "metadata": {},
     "output_type": "execute_result"
    }
   ],
   "source": [
    "loader = Dataloader(None, None, 'iris', 'Iris-virginica', 'Iris-versicolor')\n",
    "print(f\"Exporting iris to python... \")\n",
    "data = loader.export_to_python()\n",
    "X_shape = loader.X_train_shape\n",
    "X_train = data[0]\n",
    "y_train = data[1]\n",
    "y = array_to_matrix(y_train,2)\n",
    "X = array_to_matrix(X_train,X_shape[1])\n",
    "y = np.array([np.argmax(np.append(i,0)) for i in y])\n",
    "mlp.fit(X, y)"
   ]
  },
  {
   "cell_type": "code",
   "execution_count": 28,
   "metadata": {},
   "outputs": [
    {
     "name": "stdout",
     "output_type": "stream",
     "text": [
      "[1 1 1 0 0 0 1 1 0 0 1 0 1 1 1 0 1 1 0 0]\n",
      "Accuracy: 0.85\n"
     ]
    }
   ],
   "source": [
    "X_test = array_to_matrix(data[2],X_shape[1])\n",
    "y_test = array_to_matrix(data[3],2)\n",
    "y_test = np.array([np.argmax(np.append(i,0)) for i in y_test])\n",
    "\n",
    "y_pred = mlp.predict(X_test)\n",
    "accuracy = accuracy_score(y_test, y_pred)\n",
    "print(y_pred)\n",
    "print(\"Accuracy:\", accuracy)"
   ]
  },
  {
   "cell_type": "code",
   "execution_count": 29,
   "metadata": {},
   "outputs": [
    {
     "name": "stdout",
     "output_type": "stream",
     "text": [
      "Precision: 0.7272727272727273\n",
      "Recall: 1.0\n",
      "F1-score: 0.8421052631578948\n"
     ]
    }
   ],
   "source": [
    "precision = precision_score(y_test, y_pred)\n",
    "recall = recall_score(y_test, y_pred)\n",
    "f1 = f1_score(y_test, y_pred)\n",
    "\n",
    "print(\"Precision:\", precision)\n",
    "print(\"Recall:\", recall)\n",
    "print(\"F1-score:\", f1)"
   ]
  },
  {
   "cell_type": "markdown",
   "metadata": {},
   "source": [
    "Iris-setosa Iris-virginica"
   ]
  },
  {
   "cell_type": "code",
   "execution_count": 9,
   "metadata": {},
   "outputs": [
    {
     "name": "stdout",
     "output_type": "stream",
     "text": [
      "fetching iris dataset\n",
      "(150, 4) (150,)\n",
      "Dataset:  iris\n",
      "X_train:  [[ 1.91690205 -0.47344653  1.48387657  1.05511751]\n",
      " [ 0.21582425 -0.47344653  0.62004157  0.7271017 ]]\n",
      "y_train:  [[-1.  1.]\n",
      " [-1.  1.]]\n",
      "X_test:  [[ 0.53477633 -0.95655523  0.76401407  0.3990859 ]\n",
      " [ 0.53477633 -0.71500088  1.00396823  0.7271017 ]]\n",
      "y_test:  [[-1.  1.]\n",
      " [-1.  1.]]\n",
      "(80, 4) (80, 2) (20, 4) (20, 2)\n",
      "Exporting iris to python... \n"
     ]
    },
    {
     "data": {
      "text/html": [
       "<style>#sk-container-id-1 {color: black;background-color: white;}#sk-container-id-1 pre{padding: 0;}#sk-container-id-1 div.sk-toggleable {background-color: white;}#sk-container-id-1 label.sk-toggleable__label {cursor: pointer;display: block;width: 100%;margin-bottom: 0;padding: 0.3em;box-sizing: border-box;text-align: center;}#sk-container-id-1 label.sk-toggleable__label-arrow:before {content: \"▸\";float: left;margin-right: 0.25em;color: #696969;}#sk-container-id-1 label.sk-toggleable__label-arrow:hover:before {color: black;}#sk-container-id-1 div.sk-estimator:hover label.sk-toggleable__label-arrow:before {color: black;}#sk-container-id-1 div.sk-toggleable__content {max-height: 0;max-width: 0;overflow: hidden;text-align: left;background-color: #f0f8ff;}#sk-container-id-1 div.sk-toggleable__content pre {margin: 0.2em;color: black;border-radius: 0.25em;background-color: #f0f8ff;}#sk-container-id-1 input.sk-toggleable__control:checked~div.sk-toggleable__content {max-height: 200px;max-width: 100%;overflow: auto;}#sk-container-id-1 input.sk-toggleable__control:checked~label.sk-toggleable__label-arrow:before {content: \"▾\";}#sk-container-id-1 div.sk-estimator input.sk-toggleable__control:checked~label.sk-toggleable__label {background-color: #d4ebff;}#sk-container-id-1 div.sk-label input.sk-toggleable__control:checked~label.sk-toggleable__label {background-color: #d4ebff;}#sk-container-id-1 input.sk-hidden--visually {border: 0;clip: rect(1px 1px 1px 1px);clip: rect(1px, 1px, 1px, 1px);height: 1px;margin: -1px;overflow: hidden;padding: 0;position: absolute;width: 1px;}#sk-container-id-1 div.sk-estimator {font-family: monospace;background-color: #f0f8ff;border: 1px dotted black;border-radius: 0.25em;box-sizing: border-box;margin-bottom: 0.5em;}#sk-container-id-1 div.sk-estimator:hover {background-color: #d4ebff;}#sk-container-id-1 div.sk-parallel-item::after {content: \"\";width: 100%;border-bottom: 1px solid gray;flex-grow: 1;}#sk-container-id-1 div.sk-label:hover label.sk-toggleable__label {background-color: #d4ebff;}#sk-container-id-1 div.sk-serial::before {content: \"\";position: absolute;border-left: 1px solid gray;box-sizing: border-box;top: 0;bottom: 0;left: 50%;z-index: 0;}#sk-container-id-1 div.sk-serial {display: flex;flex-direction: column;align-items: center;background-color: white;padding-right: 0.2em;padding-left: 0.2em;position: relative;}#sk-container-id-1 div.sk-item {position: relative;z-index: 1;}#sk-container-id-1 div.sk-parallel {display: flex;align-items: stretch;justify-content: center;background-color: white;position: relative;}#sk-container-id-1 div.sk-item::before, #sk-container-id-1 div.sk-parallel-item::before {content: \"\";position: absolute;border-left: 1px solid gray;box-sizing: border-box;top: 0;bottom: 0;left: 50%;z-index: -1;}#sk-container-id-1 div.sk-parallel-item {display: flex;flex-direction: column;z-index: 1;position: relative;background-color: white;}#sk-container-id-1 div.sk-parallel-item:first-child::after {align-self: flex-end;width: 50%;}#sk-container-id-1 div.sk-parallel-item:last-child::after {align-self: flex-start;width: 50%;}#sk-container-id-1 div.sk-parallel-item:only-child::after {width: 0;}#sk-container-id-1 div.sk-dashed-wrapped {border: 1px dashed gray;margin: 0 0.4em 0.5em 0.4em;box-sizing: border-box;padding-bottom: 0.4em;background-color: white;}#sk-container-id-1 div.sk-label label {font-family: monospace;font-weight: bold;display: inline-block;line-height: 1.2em;}#sk-container-id-1 div.sk-label-container {text-align: center;}#sk-container-id-1 div.sk-container {/* jupyter's `normalize.less` sets `[hidden] { display: none; }` but bootstrap.min.css set `[hidden] { display: none !important; }` so we also need the `!important` here to be able to override the default hidden behavior on the sphinx rendered scikit-learn.org. See: https://github.com/scikit-learn/scikit-learn/issues/21755 */display: inline-block !important;position: relative;}#sk-container-id-1 div.sk-text-repr-fallback {display: none;}</style><div id=\"sk-container-id-1\" class=\"sk-top-container\"><div class=\"sk-text-repr-fallback\"><pre>MLPClassifier(hidden_layer_sizes=(15,), max_iter=1000, random_state=1)</pre><b>In a Jupyter environment, please rerun this cell to show the HTML representation or trust the notebook. <br />On GitHub, the HTML representation is unable to render, please try loading this page with nbviewer.org.</b></div><div class=\"sk-container\" hidden><div class=\"sk-item\"><div class=\"sk-estimator sk-toggleable\"><input class=\"sk-toggleable__control sk-hidden--visually\" id=\"sk-estimator-id-1\" type=\"checkbox\" checked><label for=\"sk-estimator-id-1\" class=\"sk-toggleable__label sk-toggleable__label-arrow\">MLPClassifier</label><div class=\"sk-toggleable__content\"><pre>MLPClassifier(hidden_layer_sizes=(15,), max_iter=1000, random_state=1)</pre></div></div></div></div></div>"
      ],
      "text/plain": [
       "MLPClassifier(hidden_layer_sizes=(15,), max_iter=1000, random_state=1)"
      ]
     },
     "execution_count": 9,
     "metadata": {},
     "output_type": "execute_result"
    }
   ],
   "source": [
    "loader = Dataloader(None, None, 'iris', 'Iris-setosa', 'Iris-virginica')\n",
    "print(f\"Exporting iris to python... \")\n",
    "data = loader.export_to_python()\n",
    "X_shape = loader.X_train_shape\n",
    "X_train = data[0]\n",
    "y_train = data[1]\n",
    "y = array_to_matrix(y_train,2)\n",
    "X = array_to_matrix(X_train,X_shape[1])\n",
    "y = np.array([np.argmax(np.append(i,0)) for i in y])\n",
    "mlp.fit(X, y)"
   ]
  },
  {
   "cell_type": "code",
   "execution_count": 10,
   "metadata": {},
   "outputs": [
    {
     "name": "stdout",
     "output_type": "stream",
     "text": [
      "[1 1 1 0 0 0 0 1 0 0 0 0 1 0 1 0 1 1 0 0]\n",
      "Accuracy: 1.0\n"
     ]
    }
   ],
   "source": [
    "X_test = array_to_matrix(data[2],X_shape[1])\n",
    "y_test = array_to_matrix(data[3],2)\n",
    "y_test = np.array([np.argmax(np.append(i,0)) for i in y_test])\n",
    "\n",
    "y_pred = mlp.predict(X_test)\n",
    "accuracy = accuracy_score(y_test, y_pred)\n",
    "print(y_pred)\n",
    "print(\"Accuracy:\", accuracy)"
   ]
  },
  {
   "cell_type": "code",
   "execution_count": 11,
   "metadata": {},
   "outputs": [
    {
     "name": "stdout",
     "output_type": "stream",
     "text": [
      "Precision: 1.0\n",
      "Recall: 1.0\n",
      "F1-score: 1.0\n"
     ]
    }
   ],
   "source": [
    "precision = precision_score(y_test, y_pred)\n",
    "recall = recall_score(y_test, y_pred)\n",
    "f1 = f1_score(y_test, y_pred)\n",
    "\n",
    "print(\"Precision:\", precision)\n",
    "print(\"Recall:\", recall)\n",
    "print(\"F1-score:\", f1)"
   ]
  },
  {
   "cell_type": "markdown",
   "metadata": {},
   "source": [
    "## Mushroom Dataset"
   ]
  },
  {
   "cell_type": "code",
   "execution_count": 38,
   "metadata": {},
   "outputs": [
    {
     "name": "stdout",
     "output_type": "stream",
     "text": [
      "fetching mushroom dataset\n",
      "Dataset:  mushroom\n",
      "X_train:  [[-0.21699152  0.14012794 -0.98389939 -0.84322964  1.3573133   0.16289645\n",
      "  -0.43886364  1.49468272 -1.35889624  0.87351064  1.35578135  0.68377765\n",
      "  -0.89305291  0.0965768   0.63199138  0.          0.14203663 -0.25613174\n",
      "  -1.27221574  1.42842641  0.28432981 -0.8771691 ]\n",
      " [ 1.02971224  0.14012794 -0.19824983 -0.84322964 -1.01956488  0.16289645\n",
      "  -0.43886364  1.49468272 -1.35889624  0.87351064  1.35578135 -0.9254372\n",
      "   0.58638466  0.62244139  0.63199138  0.          0.14203663 -0.25613174\n",
      "  -1.27221574  1.42842641  0.28432981  1.44858865]]\n",
      "y_train:  [[-1.  1.]\n",
      " [-1.  1.]]\n",
      "X_test:  [[-0.8403434  -1.48615695 -0.19824983 -0.84322964  0.40656203  0.16289645\n",
      "   2.27861212 -0.66903831 -0.51147238  0.87351064  0.20869036  0.68377765\n",
      "  -2.37249048  0.62244139  0.63199138  0.          0.14203663 -0.25613174\n",
      "  -1.27221574 -0.2504706  -0.5143892  -0.29572966]\n",
      " [-0.8403434   0.14012794 -0.98389939 -0.84322964  1.83268894  0.16289645\n",
      "  -0.43886364  1.49468272 -1.35889624  0.87351064  1.35578135  0.68377765\n",
      "   0.58638466  0.0965768   0.10765539  0.          0.14203663 -0.25613174\n",
      "  -1.27221574  1.42842641  0.28432981  0.28570978]]\n",
      "y_test:  [[ 1. -1.]\n",
      " [-1.  1.]]\n",
      "(6499, 22) (6499, 2) (1625, 22) (1625, 2)\n",
      "Exporting mushroom to python... \n"
     ]
    },
    {
     "name": "stderr",
     "output_type": "stream",
     "text": [
      "c:\\Users\\ACER\\Documents\\AI\\KDL\\KDL\\utils.py:184: SettingWithCopyWarning: \n",
      "A value is trying to be set on a copy of a slice from a DataFrame.\n",
      "Try using .loc[row_indexer,col_indexer] = value instead\n",
      "\n",
      "See the caveats in the documentation: https://pandas.pydata.org/pandas-docs/stable/user_guide/indexing.html#returning-a-view-versus-a-copy\n",
      "  X.loc[:, col] = le.fit_transform(X[col])\n",
      "c:\\Users\\ACER\\Documents\\AI\\KDL\\KDL\\utils.py:184: SettingWithCopyWarning: \n",
      "A value is trying to be set on a copy of a slice from a DataFrame.\n",
      "Try using .loc[row_indexer,col_indexer] = value instead\n",
      "\n",
      "See the caveats in the documentation: https://pandas.pydata.org/pandas-docs/stable/user_guide/indexing.html#returning-a-view-versus-a-copy\n",
      "  X.loc[:, col] = le.fit_transform(X[col])\n",
      "c:\\Users\\ACER\\Documents\\AI\\KDL\\KDL\\utils.py:184: SettingWithCopyWarning: \n",
      "A value is trying to be set on a copy of a slice from a DataFrame.\n",
      "Try using .loc[row_indexer,col_indexer] = value instead\n",
      "\n",
      "See the caveats in the documentation: https://pandas.pydata.org/pandas-docs/stable/user_guide/indexing.html#returning-a-view-versus-a-copy\n",
      "  X.loc[:, col] = le.fit_transform(X[col])\n",
      "c:\\Users\\ACER\\Documents\\AI\\KDL\\KDL\\utils.py:184: SettingWithCopyWarning: \n",
      "A value is trying to be set on a copy of a slice from a DataFrame.\n",
      "Try using .loc[row_indexer,col_indexer] = value instead\n",
      "\n",
      "See the caveats in the documentation: https://pandas.pydata.org/pandas-docs/stable/user_guide/indexing.html#returning-a-view-versus-a-copy\n",
      "  X.loc[:, col] = le.fit_transform(X[col])\n",
      "c:\\Users\\ACER\\Documents\\AI\\KDL\\KDL\\utils.py:184: SettingWithCopyWarning: \n",
      "A value is trying to be set on a copy of a slice from a DataFrame.\n",
      "Try using .loc[row_indexer,col_indexer] = value instead\n",
      "\n",
      "See the caveats in the documentation: https://pandas.pydata.org/pandas-docs/stable/user_guide/indexing.html#returning-a-view-versus-a-copy\n",
      "  X.loc[:, col] = le.fit_transform(X[col])\n",
      "c:\\Users\\ACER\\Documents\\AI\\KDL\\KDL\\utils.py:184: SettingWithCopyWarning: \n",
      "A value is trying to be set on a copy of a slice from a DataFrame.\n",
      "Try using .loc[row_indexer,col_indexer] = value instead\n",
      "\n",
      "See the caveats in the documentation: https://pandas.pydata.org/pandas-docs/stable/user_guide/indexing.html#returning-a-view-versus-a-copy\n",
      "  X.loc[:, col] = le.fit_transform(X[col])\n",
      "c:\\Users\\ACER\\Documents\\AI\\KDL\\KDL\\utils.py:184: SettingWithCopyWarning: \n",
      "A value is trying to be set on a copy of a slice from a DataFrame.\n",
      "Try using .loc[row_indexer,col_indexer] = value instead\n",
      "\n",
      "See the caveats in the documentation: https://pandas.pydata.org/pandas-docs/stable/user_guide/indexing.html#returning-a-view-versus-a-copy\n",
      "  X.loc[:, col] = le.fit_transform(X[col])\n",
      "c:\\Users\\ACER\\Documents\\AI\\KDL\\KDL\\utils.py:184: SettingWithCopyWarning: \n",
      "A value is trying to be set on a copy of a slice from a DataFrame.\n",
      "Try using .loc[row_indexer,col_indexer] = value instead\n",
      "\n",
      "See the caveats in the documentation: https://pandas.pydata.org/pandas-docs/stable/user_guide/indexing.html#returning-a-view-versus-a-copy\n",
      "  X.loc[:, col] = le.fit_transform(X[col])\n",
      "c:\\Users\\ACER\\Documents\\AI\\KDL\\KDL\\utils.py:184: SettingWithCopyWarning: \n",
      "A value is trying to be set on a copy of a slice from a DataFrame.\n",
      "Try using .loc[row_indexer,col_indexer] = value instead\n",
      "\n",
      "See the caveats in the documentation: https://pandas.pydata.org/pandas-docs/stable/user_guide/indexing.html#returning-a-view-versus-a-copy\n",
      "  X.loc[:, col] = le.fit_transform(X[col])\n",
      "c:\\Users\\ACER\\Documents\\AI\\KDL\\KDL\\utils.py:184: SettingWithCopyWarning: \n",
      "A value is trying to be set on a copy of a slice from a DataFrame.\n",
      "Try using .loc[row_indexer,col_indexer] = value instead\n",
      "\n",
      "See the caveats in the documentation: https://pandas.pydata.org/pandas-docs/stable/user_guide/indexing.html#returning-a-view-versus-a-copy\n",
      "  X.loc[:, col] = le.fit_transform(X[col])\n",
      "c:\\Users\\ACER\\Documents\\AI\\KDL\\KDL\\utils.py:184: SettingWithCopyWarning: \n",
      "A value is trying to be set on a copy of a slice from a DataFrame.\n",
      "Try using .loc[row_indexer,col_indexer] = value instead\n",
      "\n",
      "See the caveats in the documentation: https://pandas.pydata.org/pandas-docs/stable/user_guide/indexing.html#returning-a-view-versus-a-copy\n",
      "  X.loc[:, col] = le.fit_transform(X[col])\n",
      "c:\\Users\\ACER\\Documents\\AI\\KDL\\KDL\\utils.py:184: SettingWithCopyWarning: \n",
      "A value is trying to be set on a copy of a slice from a DataFrame.\n",
      "Try using .loc[row_indexer,col_indexer] = value instead\n",
      "\n",
      "See the caveats in the documentation: https://pandas.pydata.org/pandas-docs/stable/user_guide/indexing.html#returning-a-view-versus-a-copy\n",
      "  X.loc[:, col] = le.fit_transform(X[col])\n",
      "c:\\Users\\ACER\\Documents\\AI\\KDL\\KDL\\utils.py:184: SettingWithCopyWarning: \n",
      "A value is trying to be set on a copy of a slice from a DataFrame.\n",
      "Try using .loc[row_indexer,col_indexer] = value instead\n",
      "\n",
      "See the caveats in the documentation: https://pandas.pydata.org/pandas-docs/stable/user_guide/indexing.html#returning-a-view-versus-a-copy\n",
      "  X.loc[:, col] = le.fit_transform(X[col])\n",
      "c:\\Users\\ACER\\Documents\\AI\\KDL\\KDL\\utils.py:184: SettingWithCopyWarning: \n",
      "A value is trying to be set on a copy of a slice from a DataFrame.\n",
      "Try using .loc[row_indexer,col_indexer] = value instead\n",
      "\n",
      "See the caveats in the documentation: https://pandas.pydata.org/pandas-docs/stable/user_guide/indexing.html#returning-a-view-versus-a-copy\n",
      "  X.loc[:, col] = le.fit_transform(X[col])\n",
      "c:\\Users\\ACER\\Documents\\AI\\KDL\\KDL\\utils.py:184: SettingWithCopyWarning: \n",
      "A value is trying to be set on a copy of a slice from a DataFrame.\n",
      "Try using .loc[row_indexer,col_indexer] = value instead\n",
      "\n",
      "See the caveats in the documentation: https://pandas.pydata.org/pandas-docs/stable/user_guide/indexing.html#returning-a-view-versus-a-copy\n",
      "  X.loc[:, col] = le.fit_transform(X[col])\n",
      "c:\\Users\\ACER\\Documents\\AI\\KDL\\KDL\\utils.py:184: SettingWithCopyWarning: \n",
      "A value is trying to be set on a copy of a slice from a DataFrame.\n",
      "Try using .loc[row_indexer,col_indexer] = value instead\n",
      "\n",
      "See the caveats in the documentation: https://pandas.pydata.org/pandas-docs/stable/user_guide/indexing.html#returning-a-view-versus-a-copy\n",
      "  X.loc[:, col] = le.fit_transform(X[col])\n",
      "c:\\Users\\ACER\\Documents\\AI\\KDL\\KDL\\utils.py:184: SettingWithCopyWarning: \n",
      "A value is trying to be set on a copy of a slice from a DataFrame.\n",
      "Try using .loc[row_indexer,col_indexer] = value instead\n",
      "\n",
      "See the caveats in the documentation: https://pandas.pydata.org/pandas-docs/stable/user_guide/indexing.html#returning-a-view-versus-a-copy\n",
      "  X.loc[:, col] = le.fit_transform(X[col])\n",
      "c:\\Users\\ACER\\Documents\\AI\\KDL\\KDL\\utils.py:184: SettingWithCopyWarning: \n",
      "A value is trying to be set on a copy of a slice from a DataFrame.\n",
      "Try using .loc[row_indexer,col_indexer] = value instead\n",
      "\n",
      "See the caveats in the documentation: https://pandas.pydata.org/pandas-docs/stable/user_guide/indexing.html#returning-a-view-versus-a-copy\n",
      "  X.loc[:, col] = le.fit_transform(X[col])\n",
      "c:\\Users\\ACER\\Documents\\AI\\KDL\\KDL\\utils.py:184: SettingWithCopyWarning: \n",
      "A value is trying to be set on a copy of a slice from a DataFrame.\n",
      "Try using .loc[row_indexer,col_indexer] = value instead\n",
      "\n",
      "See the caveats in the documentation: https://pandas.pydata.org/pandas-docs/stable/user_guide/indexing.html#returning-a-view-versus-a-copy\n",
      "  X.loc[:, col] = le.fit_transform(X[col])\n",
      "c:\\Users\\ACER\\Documents\\AI\\KDL\\KDL\\utils.py:184: SettingWithCopyWarning: \n",
      "A value is trying to be set on a copy of a slice from a DataFrame.\n",
      "Try using .loc[row_indexer,col_indexer] = value instead\n",
      "\n",
      "See the caveats in the documentation: https://pandas.pydata.org/pandas-docs/stable/user_guide/indexing.html#returning-a-view-versus-a-copy\n",
      "  X.loc[:, col] = le.fit_transform(X[col])\n",
      "c:\\Users\\ACER\\Documents\\AI\\KDL\\KDL\\utils.py:184: SettingWithCopyWarning: \n",
      "A value is trying to be set on a copy of a slice from a DataFrame.\n",
      "Try using .loc[row_indexer,col_indexer] = value instead\n",
      "\n",
      "See the caveats in the documentation: https://pandas.pydata.org/pandas-docs/stable/user_guide/indexing.html#returning-a-view-versus-a-copy\n",
      "  X.loc[:, col] = le.fit_transform(X[col])\n",
      "c:\\Users\\ACER\\Documents\\AI\\KDL\\KDL\\utils.py:184: SettingWithCopyWarning: \n",
      "A value is trying to be set on a copy of a slice from a DataFrame.\n",
      "Try using .loc[row_indexer,col_indexer] = value instead\n",
      "\n",
      "See the caveats in the documentation: https://pandas.pydata.org/pandas-docs/stable/user_guide/indexing.html#returning-a-view-versus-a-copy\n",
      "  X.loc[:, col] = le.fit_transform(X[col])\n"
     ]
    }
   ],
   "source": [
    "mushroom = Dataloader(None, None, 'mushroom', None, None)\n",
    "print(f\"Exporting mushroom to python... \")\n",
    "data = mushroom.export_to_python()"
   ]
  },
  {
   "cell_type": "code",
   "execution_count": 39,
   "metadata": {},
   "outputs": [
    {
     "data": {
      "text/html": [
       "<style>#sk-container-id-5 {color: black;background-color: white;}#sk-container-id-5 pre{padding: 0;}#sk-container-id-5 div.sk-toggleable {background-color: white;}#sk-container-id-5 label.sk-toggleable__label {cursor: pointer;display: block;width: 100%;margin-bottom: 0;padding: 0.3em;box-sizing: border-box;text-align: center;}#sk-container-id-5 label.sk-toggleable__label-arrow:before {content: \"▸\";float: left;margin-right: 0.25em;color: #696969;}#sk-container-id-5 label.sk-toggleable__label-arrow:hover:before {color: black;}#sk-container-id-5 div.sk-estimator:hover label.sk-toggleable__label-arrow:before {color: black;}#sk-container-id-5 div.sk-toggleable__content {max-height: 0;max-width: 0;overflow: hidden;text-align: left;background-color: #f0f8ff;}#sk-container-id-5 div.sk-toggleable__content pre {margin: 0.2em;color: black;border-radius: 0.25em;background-color: #f0f8ff;}#sk-container-id-5 input.sk-toggleable__control:checked~div.sk-toggleable__content {max-height: 200px;max-width: 100%;overflow: auto;}#sk-container-id-5 input.sk-toggleable__control:checked~label.sk-toggleable__label-arrow:before {content: \"▾\";}#sk-container-id-5 div.sk-estimator input.sk-toggleable__control:checked~label.sk-toggleable__label {background-color: #d4ebff;}#sk-container-id-5 div.sk-label input.sk-toggleable__control:checked~label.sk-toggleable__label {background-color: #d4ebff;}#sk-container-id-5 input.sk-hidden--visually {border: 0;clip: rect(1px 1px 1px 1px);clip: rect(1px, 1px, 1px, 1px);height: 1px;margin: -1px;overflow: hidden;padding: 0;position: absolute;width: 1px;}#sk-container-id-5 div.sk-estimator {font-family: monospace;background-color: #f0f8ff;border: 1px dotted black;border-radius: 0.25em;box-sizing: border-box;margin-bottom: 0.5em;}#sk-container-id-5 div.sk-estimator:hover {background-color: #d4ebff;}#sk-container-id-5 div.sk-parallel-item::after {content: \"\";width: 100%;border-bottom: 1px solid gray;flex-grow: 1;}#sk-container-id-5 div.sk-label:hover label.sk-toggleable__label {background-color: #d4ebff;}#sk-container-id-5 div.sk-serial::before {content: \"\";position: absolute;border-left: 1px solid gray;box-sizing: border-box;top: 0;bottom: 0;left: 50%;z-index: 0;}#sk-container-id-5 div.sk-serial {display: flex;flex-direction: column;align-items: center;background-color: white;padding-right: 0.2em;padding-left: 0.2em;position: relative;}#sk-container-id-5 div.sk-item {position: relative;z-index: 1;}#sk-container-id-5 div.sk-parallel {display: flex;align-items: stretch;justify-content: center;background-color: white;position: relative;}#sk-container-id-5 div.sk-item::before, #sk-container-id-5 div.sk-parallel-item::before {content: \"\";position: absolute;border-left: 1px solid gray;box-sizing: border-box;top: 0;bottom: 0;left: 50%;z-index: -1;}#sk-container-id-5 div.sk-parallel-item {display: flex;flex-direction: column;z-index: 1;position: relative;background-color: white;}#sk-container-id-5 div.sk-parallel-item:first-child::after {align-self: flex-end;width: 50%;}#sk-container-id-5 div.sk-parallel-item:last-child::after {align-self: flex-start;width: 50%;}#sk-container-id-5 div.sk-parallel-item:only-child::after {width: 0;}#sk-container-id-5 div.sk-dashed-wrapped {border: 1px dashed gray;margin: 0 0.4em 0.5em 0.4em;box-sizing: border-box;padding-bottom: 0.4em;background-color: white;}#sk-container-id-5 div.sk-label label {font-family: monospace;font-weight: bold;display: inline-block;line-height: 1.2em;}#sk-container-id-5 div.sk-label-container {text-align: center;}#sk-container-id-5 div.sk-container {/* jupyter's `normalize.less` sets `[hidden] { display: none; }` but bootstrap.min.css set `[hidden] { display: none !important; }` so we also need the `!important` here to be able to override the default hidden behavior on the sphinx rendered scikit-learn.org. See: https://github.com/scikit-learn/scikit-learn/issues/21755 */display: inline-block !important;position: relative;}#sk-container-id-5 div.sk-text-repr-fallback {display: none;}</style><div id=\"sk-container-id-5\" class=\"sk-top-container\"><div class=\"sk-text-repr-fallback\"><pre>MLPClassifier(hidden_layer_sizes=(150, 100, 2), max_iter=1000, random_state=1)</pre><b>In a Jupyter environment, please rerun this cell to show the HTML representation or trust the notebook. <br />On GitHub, the HTML representation is unable to render, please try loading this page with nbviewer.org.</b></div><div class=\"sk-container\" hidden><div class=\"sk-item\"><div class=\"sk-estimator sk-toggleable\"><input class=\"sk-toggleable__control sk-hidden--visually\" id=\"sk-estimator-id-5\" type=\"checkbox\" checked><label for=\"sk-estimator-id-5\" class=\"sk-toggleable__label sk-toggleable__label-arrow\">MLPClassifier</label><div class=\"sk-toggleable__content\"><pre>MLPClassifier(hidden_layer_sizes=(150, 100, 2), max_iter=1000, random_state=1)</pre></div></div></div></div></div>"
      ],
      "text/plain": [
       "MLPClassifier(hidden_layer_sizes=(150, 100, 2), max_iter=1000, random_state=1)"
      ]
     },
     "execution_count": 39,
     "metadata": {},
     "output_type": "execute_result"
    }
   ],
   "source": [
    "\n",
    "mlp_mushroom = MLPClassifier(hidden_layer_sizes=(150, 100, 2), activation='relu', solver='adam', random_state=1, max_iter=1000)\n",
    "\n",
    "\n",
    "X_shape = mushroom.X_train_shape\n",
    "X_train = data[0]\n",
    "y_train = data[1]\n",
    "y = array_to_matrix(y_train,2)\n",
    "X = array_to_matrix(X_train,X_shape[1])\n",
    "y = np.array([np.argmax(np.append(i,0)) for i in y])\n",
    "mlp_mushroom.fit(X, y) "
   ]
  },
  {
   "cell_type": "code",
   "execution_count": 40,
   "metadata": {},
   "outputs": [
    {
     "name": "stdout",
     "output_type": "stream",
     "text": [
      "Layer 0:\n",
      "(22, 150)\n",
      "[[ 0.0131376   0.03998562 -0.18037662 ...  0.04450626 -0.01342022\n",
      "  -0.1195383 ]\n",
      " [-0.15994502  0.22369445  0.03859364 ... -0.16688084  0.09223547\n",
      "  -0.20753536]\n",
      " [ 0.13641009  0.09459517  0.09516024 ...  0.1098084  -0.12645936\n",
      "  -0.13853506]\n",
      " ...\n",
      " [-0.09929346  0.2491696  -0.1683041  ...  0.09814125 -0.12037137\n",
      "  -0.01471266]\n",
      " [ 0.04189706 -0.19416033 -0.13614087 ...  0.06211131 -0.05387941\n",
      "  -0.01377934]\n",
      " [-0.25315747  0.11082844 -0.13093246 ...  0.11035356  0.1130053\n",
      "  -0.01772727]]\n",
      "Layer 1:\n",
      "(150, 100)\n",
      "[[-0.12636975  0.01174368  0.0347975  ...  0.02286907  0.07791981\n",
      "   0.16876462]\n",
      " [ 0.04343723  0.0968511   0.1459661  ... -0.11465372  0.28807324\n",
      "   0.03849301]\n",
      " [-0.04617692  0.06319465  0.10339182 ... -0.0883273   0.06149404\n",
      "   0.07767751]\n",
      " ...\n",
      " [-0.06468736 -0.17063213 -0.09269732 ...  0.14419992 -0.14307824\n",
      "   0.12197697]\n",
      " [ 0.14592579  0.08663419  0.04052191 ...  0.04811937 -0.1006657\n",
      "  -0.05503967]\n",
      " [-0.03929291  0.13198818 -0.21959739 ...  0.06815766 -0.04903912\n",
      "   0.01123894]]\n",
      "Layer 2:\n",
      "(100, 2)\n",
      "[[-0.21038192 -0.34039486]\n",
      " [ 0.15920478  0.19069948]\n",
      " [ 0.34397877  0.25092513]\n",
      " [ 0.09704224 -0.13680719]\n",
      " [ 0.2826751   0.39149721]\n",
      " [-0.330069   -0.22204142]\n",
      " [ 0.22473588  0.11036221]\n",
      " [-0.08446614  0.19413231]\n",
      " [-0.26137844 -0.15166803]\n",
      " [-0.190525   -0.17842566]\n",
      " [-0.25376872  0.16271158]\n",
      " [-0.26414445 -0.23095157]\n",
      " [ 0.31367114 -0.07964859]\n",
      " [-0.20607557 -0.06723016]\n",
      " [ 0.29724127  0.2557566 ]\n",
      " [ 0.38662716  0.24148997]\n",
      " [-0.05143849  0.12884407]\n",
      " [-0.24624429 -0.33924381]\n",
      " [-0.22446619 -0.20158338]\n",
      " [ 0.1989559   0.21307892]\n",
      " [-0.07082592  0.17223172]\n",
      " [-0.21525887 -0.11029708]\n",
      " [-0.26970831 -0.06819496]\n",
      " [ 0.23053564  0.24941157]\n",
      " [-0.17102682 -0.17009962]\n",
      " [-0.19392065  0.04455406]\n",
      " [-0.18069767 -0.00067927]\n",
      " [-0.00827682 -0.22098093]\n",
      " [-0.15077962 -0.16234859]\n",
      " [ 0.21042581 -0.06593684]\n",
      " [-0.23866266 -0.32181963]\n",
      " [-0.18156176  0.25713173]\n",
      " [-0.13444765 -0.30535558]\n",
      " [ 0.30989448  0.22622548]\n",
      " [ 0.28646198 -0.15658568]\n",
      " [-0.30234126 -0.10835107]\n",
      " [ 0.04437692 -0.29878847]\n",
      " [ 0.01589658  0.24589571]\n",
      " [ 0.17452223  0.13595796]\n",
      " [ 0.30618895  0.20903725]\n",
      " [ 0.36666377  0.05246665]\n",
      " [ 0.03345931 -0.02755349]\n",
      " [ 0.16501299  0.17487805]\n",
      " [ 0.20387662  0.25530672]\n",
      " [ 0.30378378 -0.15507185]\n",
      " [ 0.08009663 -0.06326893]\n",
      " [ 0.09600278  0.29990226]\n",
      " [-0.16628395 -0.19566421]\n",
      " [ 0.32414016  0.28775248]\n",
      " [ 0.02311331 -0.15880956]\n",
      " [ 0.1968842  -0.02182188]\n",
      " [ 0.20740685  0.26046406]\n",
      " [-0.3565817  -0.20331884]\n",
      " [ 0.49401554  0.28955887]\n",
      " [ 0.30488777  0.18884541]\n",
      " [ 0.23433914  0.35231128]\n",
      " [-0.08728851 -0.19045044]\n",
      " [ 0.27961705  0.2854623 ]\n",
      " [-0.34389806 -0.14701311]\n",
      " [ 0.06403175  0.24590263]\n",
      " [-0.13128481  0.13920445]\n",
      " [ 0.34443349  0.41864718]\n",
      " [ 0.30925936  0.17592517]\n",
      " [ 0.5371878   0.38084198]\n",
      " [ 0.07080118  0.28017339]\n",
      " [ 0.3227252  -0.04749796]\n",
      " [ 0.17088036  0.19765293]\n",
      " [ 0.33885716  0.19146319]\n",
      " [ 0.16003867  0.2290238 ]\n",
      " [-0.09469175  0.22640925]\n",
      " [ 0.13175425  0.38051265]\n",
      " [-0.09978087  0.08766508]\n",
      " [-0.12404151 -0.36248958]\n",
      " [-0.35682007 -0.22833302]\n",
      " [-0.16331574  0.31577046]\n",
      " [-0.18110326  0.14040968]\n",
      " [-0.23623487 -0.28420279]\n",
      " [ 0.29628677 -0.04655973]\n",
      " [-0.31643289 -0.33454804]\n",
      " [ 0.34685461  0.33908429]\n",
      " [ 0.11191123 -0.23504397]\n",
      " [-0.25400736  0.04709549]\n",
      " [ 0.34466217  0.24974397]\n",
      " [-0.24585696 -0.31108442]\n",
      " [-0.18222265  0.27932307]\n",
      " [ 0.41244284  0.24902684]\n",
      " [-0.136385   -0.06369559]\n",
      " [-0.37610792 -0.07396251]\n",
      " [ 0.00872028 -0.19861324]\n",
      " [-0.10082732 -0.23750866]\n",
      " [-0.01504236  0.29311009]\n",
      " [ 0.29342831 -0.14970384]\n",
      " [-0.21822611  0.17105441]\n",
      " [ 0.22363403  0.29797106]\n",
      " [ 0.12760271  0.31537939]\n",
      " [-0.10330825 -0.22839853]\n",
      " [ 0.24027166  0.14695987]\n",
      " [-0.29041908 -0.10126853]\n",
      " [ 0.3129172   0.41735126]\n",
      " [ 0.27590801 -0.12276888]]\n",
      "Layer 3:\n",
      "(2, 1)\n",
      "[[0.99420299]\n",
      " [0.65667236]]\n"
     ]
    }
   ],
   "source": [
    "# Lấy danh sách các lớp của mạng nơ-ron\n",
    "layers = mlp_mushroom.coefs_\n",
    "\n",
    "# In các trọng số của từng lớp\n",
    "for i, layer in enumerate(layers):\n",
    "    print(f\"Layer {i}:\")\n",
    "    print(layer.shape)\n",
    "    # print(layer)\n"
   ]
  },
  {
   "cell_type": "code",
   "execution_count": 41,
   "metadata": {},
   "outputs": [
    {
     "name": "stdout",
     "output_type": "stream",
     "text": [
      "[0 1 1 ... 1 1 1]\n",
      "Accuracy: 1.0\n"
     ]
    }
   ],
   "source": [
    "X_test = array_to_matrix(data[2],X_shape[1])\n",
    "y_test = array_to_matrix(data[3],2)\n",
    "y_test = np.array([np.argmax(np.append(i,0)) for i in y_test])\n",
    "\n",
    "y_pred = mlp_mushroom.predict(X_test)\n",
    "accuracy = accuracy_score(y_test, y_pred)\n",
    "print(y_pred)\n",
    "print(\"Accuracy:\", accuracy)"
   ]
  },
  {
   "cell_type": "code",
   "execution_count": 42,
   "metadata": {},
   "outputs": [
    {
     "name": "stdout",
     "output_type": "stream",
     "text": [
      "Precision: 1.0\n",
      "Recall: 1.0\n",
      "F1-score: 1.0\n"
     ]
    }
   ],
   "source": [
    "precision = precision_score(y_test, y_pred)\n",
    "recall = recall_score(y_test, y_pred)\n",
    "f1 = f1_score(y_test, y_pred)\n",
    "\n",
    "print(\"Precision:\", precision)\n",
    "print(\"Recall:\", recall)\n",
    "print(\"F1-score:\", f1)"
   ]
  },
  {
   "cell_type": "markdown",
   "metadata": {},
   "source": [
    "## MNIST dataset"
   ]
  },
  {
   "cell_type": "code",
   "execution_count": 21,
   "metadata": {},
   "outputs": [
    {
     "name": "stdout",
     "output_type": "stream",
     "text": [
      "Dataset:  mnist\n",
      "X_train:  [[0. 0. 0. ... 0. 0. 0.]\n",
      " [0. 0. 0. ... 0. 0. 0.]]\n",
      "y_train:  [[ 1. -1.]\n",
      " [-1.  1.]]\n",
      "X_test:  [[0. 0. 0. ... 0. 0. 0.]\n",
      " [0. 0. 0. ... 0. 0. 0.]]\n",
      "y_test:  [[-1.  1.]\n",
      " [ 1. -1.]]\n",
      "(11881, 784) (11881, 2) (2012, 784) (2012, 2)\n",
      "Exporting mnist to python... \n"
     ]
    }
   ],
   "source": [
    "mnist = Dataloader(None, None, 'mnist', None, None)\n",
    "print(f\"Exporting mnist to python... \")\n",
    "data = mnist.export_to_python()"
   ]
  },
  {
   "cell_type": "code",
   "execution_count": 22,
   "metadata": {},
   "outputs": [
    {
     "data": {
      "text/html": [
       "<style>#sk-container-id-3 {color: black;background-color: white;}#sk-container-id-3 pre{padding: 0;}#sk-container-id-3 div.sk-toggleable {background-color: white;}#sk-container-id-3 label.sk-toggleable__label {cursor: pointer;display: block;width: 100%;margin-bottom: 0;padding: 0.3em;box-sizing: border-box;text-align: center;}#sk-container-id-3 label.sk-toggleable__label-arrow:before {content: \"▸\";float: left;margin-right: 0.25em;color: #696969;}#sk-container-id-3 label.sk-toggleable__label-arrow:hover:before {color: black;}#sk-container-id-3 div.sk-estimator:hover label.sk-toggleable__label-arrow:before {color: black;}#sk-container-id-3 div.sk-toggleable__content {max-height: 0;max-width: 0;overflow: hidden;text-align: left;background-color: #f0f8ff;}#sk-container-id-3 div.sk-toggleable__content pre {margin: 0.2em;color: black;border-radius: 0.25em;background-color: #f0f8ff;}#sk-container-id-3 input.sk-toggleable__control:checked~div.sk-toggleable__content {max-height: 200px;max-width: 100%;overflow: auto;}#sk-container-id-3 input.sk-toggleable__control:checked~label.sk-toggleable__label-arrow:before {content: \"▾\";}#sk-container-id-3 div.sk-estimator input.sk-toggleable__control:checked~label.sk-toggleable__label {background-color: #d4ebff;}#sk-container-id-3 div.sk-label input.sk-toggleable__control:checked~label.sk-toggleable__label {background-color: #d4ebff;}#sk-container-id-3 input.sk-hidden--visually {border: 0;clip: rect(1px 1px 1px 1px);clip: rect(1px, 1px, 1px, 1px);height: 1px;margin: -1px;overflow: hidden;padding: 0;position: absolute;width: 1px;}#sk-container-id-3 div.sk-estimator {font-family: monospace;background-color: #f0f8ff;border: 1px dotted black;border-radius: 0.25em;box-sizing: border-box;margin-bottom: 0.5em;}#sk-container-id-3 div.sk-estimator:hover {background-color: #d4ebff;}#sk-container-id-3 div.sk-parallel-item::after {content: \"\";width: 100%;border-bottom: 1px solid gray;flex-grow: 1;}#sk-container-id-3 div.sk-label:hover label.sk-toggleable__label {background-color: #d4ebff;}#sk-container-id-3 div.sk-serial::before {content: \"\";position: absolute;border-left: 1px solid gray;box-sizing: border-box;top: 0;bottom: 0;left: 50%;z-index: 0;}#sk-container-id-3 div.sk-serial {display: flex;flex-direction: column;align-items: center;background-color: white;padding-right: 0.2em;padding-left: 0.2em;position: relative;}#sk-container-id-3 div.sk-item {position: relative;z-index: 1;}#sk-container-id-3 div.sk-parallel {display: flex;align-items: stretch;justify-content: center;background-color: white;position: relative;}#sk-container-id-3 div.sk-item::before, #sk-container-id-3 div.sk-parallel-item::before {content: \"\";position: absolute;border-left: 1px solid gray;box-sizing: border-box;top: 0;bottom: 0;left: 50%;z-index: -1;}#sk-container-id-3 div.sk-parallel-item {display: flex;flex-direction: column;z-index: 1;position: relative;background-color: white;}#sk-container-id-3 div.sk-parallel-item:first-child::after {align-self: flex-end;width: 50%;}#sk-container-id-3 div.sk-parallel-item:last-child::after {align-self: flex-start;width: 50%;}#sk-container-id-3 div.sk-parallel-item:only-child::after {width: 0;}#sk-container-id-3 div.sk-dashed-wrapped {border: 1px dashed gray;margin: 0 0.4em 0.5em 0.4em;box-sizing: border-box;padding-bottom: 0.4em;background-color: white;}#sk-container-id-3 div.sk-label label {font-family: monospace;font-weight: bold;display: inline-block;line-height: 1.2em;}#sk-container-id-3 div.sk-label-container {text-align: center;}#sk-container-id-3 div.sk-container {/* jupyter's `normalize.less` sets `[hidden] { display: none; }` but bootstrap.min.css set `[hidden] { display: none !important; }` so we also need the `!important` here to be able to override the default hidden behavior on the sphinx rendered scikit-learn.org. See: https://github.com/scikit-learn/scikit-learn/issues/21755 */display: inline-block !important;position: relative;}#sk-container-id-3 div.sk-text-repr-fallback {display: none;}</style><div id=\"sk-container-id-3\" class=\"sk-top-container\"><div class=\"sk-text-repr-fallback\"><pre>MLPClassifier(hidden_layer_sizes=(150, 100, 2), max_iter=1000, random_state=1)</pre><b>In a Jupyter environment, please rerun this cell to show the HTML representation or trust the notebook. <br />On GitHub, the HTML representation is unable to render, please try loading this page with nbviewer.org.</b></div><div class=\"sk-container\" hidden><div class=\"sk-item\"><div class=\"sk-estimator sk-toggleable\"><input class=\"sk-toggleable__control sk-hidden--visually\" id=\"sk-estimator-id-3\" type=\"checkbox\" checked><label for=\"sk-estimator-id-3\" class=\"sk-toggleable__label sk-toggleable__label-arrow\">MLPClassifier</label><div class=\"sk-toggleable__content\"><pre>MLPClassifier(hidden_layer_sizes=(150, 100, 2), max_iter=1000, random_state=1)</pre></div></div></div></div></div>"
      ],
      "text/plain": [
       "MLPClassifier(hidden_layer_sizes=(150, 100, 2), max_iter=1000, random_state=1)"
      ]
     },
     "execution_count": 22,
     "metadata": {},
     "output_type": "execute_result"
    }
   ],
   "source": [
    "\n",
    "mlp_mnist = MLPClassifier(hidden_layer_sizes=(150, 100, 2), activation='relu', solver='adam', random_state=1, max_iter=1000)\n",
    "X_shape = mnist.X_train_shape\n",
    "X_train = data[0]\n",
    "y_train = data[1]\n",
    "y = array_to_matrix(y_train,2)\n",
    "X = array_to_matrix(X_train,X_shape[1])\n",
    "y = np.array([np.argmax(np.append(i,0)) for i in y])\n",
    "mlp_mnist.fit(X, y) "
   ]
  },
  {
   "cell_type": "code",
   "execution_count": 23,
   "metadata": {},
   "outputs": [
    {
     "name": "stdout",
     "output_type": "stream",
     "text": [
      "Layer 0:\n",
      "(784, 150)\n",
      "[[-1.18707329e-23 -1.53290399e-20 -4.65896294e-13 ... -9.70641282e-21\n",
      "  -8.31828986e-25 -2.58650233e-13]\n",
      " [-9.07202420e-15  9.30101936e-14  2.24814386e-24 ... -5.33951129e-15\n",
      "   2.06194910e-13  3.98308644e-18]\n",
      " [-1.75805448e-18  2.49757577e-17  8.96588962e-22 ...  3.67435120e-15\n",
      "   3.59762240e-17  2.35570527e-17]\n",
      " ...\n",
      " [-1.23221776e-22 -1.10745020e-17  1.30500340e-16 ...  5.92168965e-14\n",
      "  -1.20528635e-22 -4.07813859e-14]\n",
      " [ 4.31458578e-13  4.12746403e-18  1.98635257e-20 ...  1.15806645e-21\n",
      "   3.45600938e-17  1.33438905e-21]\n",
      " [-2.62628891e-17 -1.24885744e-21  3.47342503e-17 ... -2.04360912e-14\n",
      "  -1.28567718e-21 -1.52281512e-16]]\n",
      "Layer 1:\n",
      "(150, 100)\n",
      "[[-0.13297615 -0.11567363 -0.06260135 ... -0.08208432 -0.07331319\n",
      "  -0.08249734]\n",
      " [ 0.03702546 -0.13429916  0.07972849 ...  0.16061091  0.00542046\n",
      "  -0.12667974]\n",
      " [ 0.11848674  0.09144515  0.03959711 ...  0.1796228   0.02287379\n",
      "   0.06373644]\n",
      " ...\n",
      " [-0.10921628 -0.0652903   0.02826685 ...  0.00459555 -0.08943202\n",
      "   0.10464341]\n",
      " [-0.09746628 -0.02706082 -0.0051016  ... -0.02076671  0.07888802\n",
      "   0.07752608]\n",
      " [-0.07571439 -0.07459139 -0.11804552 ...  0.15281535  0.11658335\n",
      "   0.0747857 ]]\n",
      "Layer 2:\n",
      "(100, 2)\n",
      "[[-0.16146093 -0.04489959]\n",
      " [ 0.10806559 -0.02360053]\n",
      " [-0.22258619  0.10380705]\n",
      " [ 0.21549506  0.09557115]\n",
      " [ 0.11693424  0.05614733]\n",
      " [-0.18348509  0.18904966]\n",
      " [-0.15257821  0.23463736]\n",
      " [-0.02777879 -0.08331783]\n",
      " [-0.0077967   0.17647926]\n",
      " [-0.21062037 -0.00476526]\n",
      " [ 0.06334869 -0.03266695]\n",
      " [ 0.08748088  0.19937335]\n",
      " [ 0.15179202 -0.2515159 ]\n",
      " [ 0.14880157 -0.17551299]\n",
      " [-0.14997467  0.12667053]\n",
      " [-0.02191891  0.20003422]\n",
      " [-0.25347535  0.21942938]\n",
      " [ 0.13019573  0.16295202]\n",
      " [ 0.11461469 -0.04542276]\n",
      " [ 0.21776676  0.12770179]\n",
      " [ 0.27089149  0.22923093]\n",
      " [ 0.20478973 -0.22220347]\n",
      " [-0.08090904 -0.24702413]\n",
      " [-0.15778549 -0.18752293]\n",
      " [-0.19148675 -0.08685434]\n",
      " [-0.14541831  0.25563636]\n",
      " [ 0.13972854  0.13411537]\n",
      " [-0.07696992  0.07255952]\n",
      " [ 0.03981336  0.26316557]\n",
      " [-0.20699224 -0.05019167]\n",
      " [-0.16808058  0.00577538]\n",
      " [-0.04699672 -0.04415123]\n",
      " [-0.07670251 -0.05629221]\n",
      " [ 0.19425974 -0.12028758]\n",
      " [ 0.02166193  0.20779447]\n",
      " [-0.19273141 -0.20428899]\n",
      " [-0.02126513  0.22204016]\n",
      " [ 0.29287227 -0.1059078 ]\n",
      " [-0.20165367 -0.02123215]\n",
      " [ 0.01292563  0.09685274]\n",
      " [ 0.09153239 -0.10754722]\n",
      " [-0.33424593  0.21326166]\n",
      " [ 0.08697177  0.076251  ]\n",
      " [ 0.00424896 -0.05345143]\n",
      " [-0.15052395 -0.16677901]\n",
      " [ 0.30544335  0.11021484]\n",
      " [ 0.28208201 -0.23057172]\n",
      " [-0.14669642 -0.20063497]\n",
      " [-0.19241043  0.23861717]\n",
      " [-0.16092185  0.0770946 ]\n",
      " [-0.16999574  0.2177644 ]\n",
      " [-0.01840366 -0.0050698 ]\n",
      " [ 0.19018996 -0.11643145]\n",
      " [-0.15447539 -0.02024635]\n",
      " [ 0.24789894  0.14239103]\n",
      " [ 0.30612247  0.19223391]\n",
      " [-0.03324338 -0.22985745]\n",
      " [-0.03818041  0.09674595]\n",
      " [ 0.24789087 -0.05087096]\n",
      " [-0.20694478  0.21167787]\n",
      " [ 0.08761905  0.01554613]\n",
      " [-0.09561816  0.25658485]\n",
      " [ 0.00708113 -0.05370533]\n",
      " [-0.21686364  0.08492188]\n",
      " [ 0.2012386  -0.07856543]\n",
      " [ 0.23043321 -0.01418723]\n",
      " [-0.07271823 -0.09751625]\n",
      " [ 0.22226724 -0.0833544 ]\n",
      " [ 0.20446714 -0.18226831]\n",
      " [ 0.20573724 -0.10472418]\n",
      " [-0.00563395 -0.13375521]\n",
      " [-0.04409951  0.26969766]\n",
      " [ 0.13317791 -0.10988006]\n",
      " [ 0.05409379 -0.23020779]\n",
      " [ 0.29179331 -0.22304409]\n",
      " [ 0.05042589 -0.1219221 ]\n",
      " [-0.20953691  0.24951142]\n",
      " [-0.17736675  0.2162629 ]\n",
      " [ 0.07385327 -0.04532445]\n",
      " [ 0.05617188  0.08037728]\n",
      " [-0.19358361 -0.04527558]\n",
      " [ 0.04746402 -0.2293261 ]\n",
      " [ 0.18751885 -0.18432661]\n",
      " [-0.02219313 -0.23712434]\n",
      " [ 0.10290256 -0.19866885]\n",
      " [ 0.27988686 -0.02606841]\n",
      " [ 0.23705361 -0.04241837]\n",
      " [-0.00307542 -0.06636601]\n",
      " [-0.21008015  0.28836313]\n",
      " [-0.22455409  0.1541958 ]\n",
      " [ 0.2085756   0.20713931]\n",
      " [ 0.03438362 -0.00039076]\n",
      " [-0.0801742   0.15588999]\n",
      " [-0.06530585 -0.20970037]\n",
      " [-0.09345117  0.09204303]\n",
      " [-0.2154874  -0.14303172]\n",
      " [-0.245616    0.14415139]\n",
      " [ 0.09707476  0.20713928]\n",
      " [-0.19991158 -0.17188615]\n",
      " [ 0.20636107 -0.12912921]]\n",
      "Layer 3:\n",
      "(2, 1)\n",
      "[[ 0.31303687]\n",
      " [-0.82599832]]\n"
     ]
    }
   ],
   "source": [
    "# Lấy danh sách các lớp của mạng nơ-ron\n",
    "layers = mlp_mnist.coefs_\n",
    "\n",
    "# In các trọng số của từng lớp\n",
    "for i, layer in enumerate(layers):\n",
    "    print(f\"Layer {i}:\")\n",
    "    print(layer.shape)\n",
    "    print(layer)\n"
   ]
  },
  {
   "cell_type": "code",
   "execution_count": 24,
   "metadata": {},
   "outputs": [
    {
     "name": "stdout",
     "output_type": "stream",
     "text": [
      "(11881, 784)\n",
      "[1 0 0 ... 1 0 1]\n",
      "Accuracy: 0.9935387673956262\n"
     ]
    }
   ],
   "source": [
    "X_test = array_to_matrix(data[2],X_shape[1])\n",
    "y_test = array_to_matrix(data[3],2)\n",
    "y_test = np.array([np.argmax(np.append(i,0)) for i in y_test])\n",
    "print(X_shape)\n",
    "y_pred = mlp_mnist.predict(X_test)\n",
    "accuracy = accuracy_score(y_test, y_pred)\n",
    "print(y_pred)\n",
    "print(\"Accuracy:\", accuracy)"
   ]
  },
  {
   "cell_type": "code",
   "execution_count": 25,
   "metadata": {},
   "outputs": [
    {
     "name": "stdout",
     "output_type": "stream",
     "text": [
      "Precision: 0.9970731707317073\n",
      "Recall: 0.9903100775193798\n",
      "F1-score: 0.9936801166747691\n"
     ]
    }
   ],
   "source": [
    "precision = precision_score(y_test, y_pred)\n",
    "recall = recall_score(y_test, y_pred)\n",
    "f1 = f1_score(y_test, y_pred)\n",
    "\n",
    "print(\"Precision:\", precision)\n",
    "print(\"Recall:\", recall)\n",
    "print(\"F1-score:\", f1)"
   ]
  }
 ],
 "metadata": {
  "kernelspec": {
   "display_name": "pj",
   "language": "python",
   "name": "python3"
  },
  "language_info": {
   "codemirror_mode": {
    "name": "ipython",
    "version": 3
   },
   "file_extension": ".py",
   "mimetype": "text/x-python",
   "name": "python",
   "nbconvert_exporter": "python",
   "pygments_lexer": "ipython3",
   "version": "3.10.9"
  }
 },
 "nbformat": 4,
 "nbformat_minor": 2
}
