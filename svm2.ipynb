{
 "cells": [
  {
   "cell_type": "code",
   "execution_count": 1,
   "metadata": {},
   "outputs": [],
   "source": [
    "from utils import Dataloader\n",
    "from sklearn.svm import SVC\n",
    "import matplotlib.pyplot as plt\n",
    "import numpy as np\n",
    "from sklearn.metrics import accuracy_score,precision_score, recall_score, f1_score\n",
    "import time"
   ]
  },
  {
   "cell_type": "code",
   "execution_count": 2,
   "metadata": {},
   "outputs": [],
   "source": [
    "def array_to_matrix(arr, n_cols):\n",
    "    n_rows = len(arr) // n_cols\n",
    "    return np.array(arr).reshape(n_rows, n_cols)"
   ]
  },
  {
   "cell_type": "markdown",
   "metadata": {},
   "source": [
    "## Iris Dataset"
   ]
  },
  {
   "cell_type": "code",
   "execution_count": 3,
   "metadata": {},
   "outputs": [],
   "source": [
    "C = 1.0\n",
    "clf = SVC(kernel = 'linear', C = C)"
   ]
  },
  {
   "cell_type": "markdown",
   "metadata": {},
   "source": [
    "#### Iris-virginica & Iris-versicolor"
   ]
  },
  {
   "cell_type": "code",
   "execution_count": 4,
   "metadata": {},
   "outputs": [
    {
     "name": "stdout",
     "output_type": "stream",
     "text": [
      "fetching iris dataset\n",
      "(150, 4) (150,)\n",
      "Dataset:  iris\n",
      "X_train:  [[ 2.02877297  0.38660992  2.06223168  1.00321947]\n",
      " [-0.39726347  0.38660992 -0.12904165  0.29339437]]\n",
      "y_train:  [[-1.  1.]\n",
      " [-1.  1.]]\n",
      "X_test:  [[ 0.05761837 -0.21746808  0.23617057 -0.41643072]\n",
      " [ 0.05761837  0.08457092  0.84485761  0.29339437]]\n",
      "y_test:  [[-1.  1.]\n",
      " [-1.  1.]]\n",
      "(80, 4) (80, 2) (20, 4) (20, 2)\n",
      "Exporting iris to python... \n",
      "Training time: 0.000997304916381836 seconds\n"
     ]
    }
   ],
   "source": [
    "loader = Dataloader(None, None, 'iris', 'Iris-virginica', 'Iris-versicolor')\n",
    "print(f\"Exporting iris to python... \")\n",
    "data = loader.export_to_python()\n",
    "X_shape = loader.X_train_shape\n",
    "X_train = data[0]\n",
    "y_train = data[1]\n",
    "y = array_to_matrix(y_train,2)\n",
    "X = array_to_matrix(X_train,X_shape[1])\n",
    "y = np.array([np.argmax(np.append(i,0)) for i in y])\n",
    "\n",
    "start_time = time.time()\n",
    "clf.fit(X, y) \n",
    "training_time = time.time() - start_time\n",
    "print(\"Training time:\", training_time, \"seconds\")"
   ]
  },
  {
   "cell_type": "code",
   "execution_count": 5,
   "metadata": {},
   "outputs": [
    {
     "name": "stdout",
     "output_type": "stream",
     "text": [
      "[1 1 1 0 0 0 1 1 0 0 1 0 1 1 1 0 1 1 0 0]\n",
      "Accuracy: 0.85\n",
      "Precision: 0.7272727272727273\n",
      "Recall: 1.0\n",
      "F1-score: 0.8421052631578948\n"
     ]
    }
   ],
   "source": [
    "X_test = array_to_matrix(data[2],X_shape[1])\n",
    "y_test = array_to_matrix(data[3],2)\n",
    "y_test = np.array([np.argmax(np.append(i,0)) for i in y_test])\n",
    "\n",
    "y_pred = clf.predict(X_test)\n",
    "accuracy = accuracy_score(y_test, y_pred)\n",
    "precision = precision_score(y_test, y_pred)\n",
    "recall = recall_score(y_test, y_pred)\n",
    "f1 = f1_score(y_test, y_pred)\n",
    "print(y_pred)\n",
    "\n",
    "print(\"Accuracy:\", accuracy)\n",
    "print(\"Precision:\", precision)\n",
    "print(\"Recall:\", recall)\n",
    "print(\"F1-score:\", f1)\n"
   ]
  },
  {
   "cell_type": "markdown",
   "metadata": {},
   "source": [
    "#### Iris-setosa & Iris-versicolor"
   ]
  },
  {
   "cell_type": "code",
   "execution_count": 6,
   "metadata": {},
   "outputs": [
    {
     "name": "stdout",
     "output_type": "stream",
     "text": [
      "fetching iris dataset\n",
      "(150, 4) (150,)\n",
      "Dataset:  iris\n",
      "X_train:  [[ 0.35866332 -0.62068428  1.1364712   0.91401319]\n",
      " [ 0.20204178 -0.19845007  0.85894465  0.91401319]]\n",
      "y_train:  [[-1.  1.]\n",
      " [-1.  1.]]\n",
      "X_test:  [[ 0.82852793 -0.83180138  1.55276101  1.44644806]\n",
      " [ 0.04542025 -1.67626978  0.78956302  0.91401319]]\n",
      "y_test:  [[-1.  1.]\n",
      " [-1.  1.]]\n",
      "(80, 4) (80, 2) (20, 4) (20, 2)\n",
      "Exporting iris to python... \n",
      "Training time: 0.0 seconds\n"
     ]
    }
   ],
   "source": [
    "loader = Dataloader(None, None, 'iris', 'Iris-setosa', 'Iris-versicolor')\n",
    "print(f\"Exporting iris to python... \")\n",
    "data = loader.export_to_python()\n",
    "X_shape = loader.X_train_shape\n",
    "X_train = data[0]\n",
    "y_train = data[1]\n",
    "y = array_to_matrix(y_train,2)\n",
    "X = array_to_matrix(X_train,X_shape[1])\n",
    "y = np.array([np.argmax(np.append(i,0)) for i in y])\n",
    "\n",
    "start_time = time.time()\n",
    "clf.fit(X, y) \n",
    "training_time = time.time() - start_time\n",
    "print(\"Training time:\", training_time, \"seconds\")"
   ]
  },
  {
   "cell_type": "code",
   "execution_count": 7,
   "metadata": {},
   "outputs": [
    {
     "name": "stdout",
     "output_type": "stream",
     "text": [
      "[1 1 1 0 0 0 0 1 0 0 0 0 1 0 1 0 1 1 0 0]\n",
      "Accuracy: 1.0\n",
      "Precision: 1.0\n",
      "Recall: 1.0\n",
      "F1-score: 1.0\n"
     ]
    }
   ],
   "source": [
    "X_test = array_to_matrix(data[2],X_shape[1])\n",
    "y_test = array_to_matrix(data[3],2)\n",
    "y_test = np.array([np.argmax(np.append(i,0)) for i in y_test])\n",
    "\n",
    "y_pred = clf.predict(X_test)\n",
    "accuracy = accuracy_score(y_test, y_pred)\n",
    "precision = precision_score(y_test, y_pred)\n",
    "recall = recall_score(y_test, y_pred)\n",
    "f1 = f1_score(y_test, y_pred)\n",
    "print(y_pred)\n",
    "\n",
    "print(\"Accuracy:\", accuracy)\n",
    "print(\"Precision:\", precision)\n",
    "print(\"Recall:\", recall)\n",
    "print(\"F1-score:\", f1)\n"
   ]
  },
  {
   "cell_type": "markdown",
   "metadata": {},
   "source": [
    "#### Iris-setosa & Iris-virginica"
   ]
  },
  {
   "cell_type": "code",
   "execution_count": 8,
   "metadata": {},
   "outputs": [
    {
     "name": "stdout",
     "output_type": "stream",
     "text": [
      "fetching iris dataset\n",
      "(150, 4) (150,)\n",
      "Dataset:  iris\n",
      "X_train:  [[ 1.91690205 -0.47344653  1.48387657  1.05511751]\n",
      " [ 0.21582425 -0.47344653  0.62004157  0.7271017 ]]\n",
      "y_train:  [[-1.  1.]\n",
      " [-1.  1.]]\n",
      "X_test:  [[ 0.53477633 -0.95655523  0.76401407  0.3990859 ]\n",
      " [ 0.53477633 -0.71500088  1.00396823  0.7271017 ]]\n",
      "y_test:  [[-1.  1.]\n",
      " [-1.  1.]]\n",
      "(80, 4) (80, 2) (20, 4) (20, 2)\n",
      "Exporting iris to python... \n"
     ]
    },
    {
     "data": {
      "text/html": [
       "<style>#sk-container-id-1 {color: black;background-color: white;}#sk-container-id-1 pre{padding: 0;}#sk-container-id-1 div.sk-toggleable {background-color: white;}#sk-container-id-1 label.sk-toggleable__label {cursor: pointer;display: block;width: 100%;margin-bottom: 0;padding: 0.3em;box-sizing: border-box;text-align: center;}#sk-container-id-1 label.sk-toggleable__label-arrow:before {content: \"▸\";float: left;margin-right: 0.25em;color: #696969;}#sk-container-id-1 label.sk-toggleable__label-arrow:hover:before {color: black;}#sk-container-id-1 div.sk-estimator:hover label.sk-toggleable__label-arrow:before {color: black;}#sk-container-id-1 div.sk-toggleable__content {max-height: 0;max-width: 0;overflow: hidden;text-align: left;background-color: #f0f8ff;}#sk-container-id-1 div.sk-toggleable__content pre {margin: 0.2em;color: black;border-radius: 0.25em;background-color: #f0f8ff;}#sk-container-id-1 input.sk-toggleable__control:checked~div.sk-toggleable__content {max-height: 200px;max-width: 100%;overflow: auto;}#sk-container-id-1 input.sk-toggleable__control:checked~label.sk-toggleable__label-arrow:before {content: \"▾\";}#sk-container-id-1 div.sk-estimator input.sk-toggleable__control:checked~label.sk-toggleable__label {background-color: #d4ebff;}#sk-container-id-1 div.sk-label input.sk-toggleable__control:checked~label.sk-toggleable__label {background-color: #d4ebff;}#sk-container-id-1 input.sk-hidden--visually {border: 0;clip: rect(1px 1px 1px 1px);clip: rect(1px, 1px, 1px, 1px);height: 1px;margin: -1px;overflow: hidden;padding: 0;position: absolute;width: 1px;}#sk-container-id-1 div.sk-estimator {font-family: monospace;background-color: #f0f8ff;border: 1px dotted black;border-radius: 0.25em;box-sizing: border-box;margin-bottom: 0.5em;}#sk-container-id-1 div.sk-estimator:hover {background-color: #d4ebff;}#sk-container-id-1 div.sk-parallel-item::after {content: \"\";width: 100%;border-bottom: 1px solid gray;flex-grow: 1;}#sk-container-id-1 div.sk-label:hover label.sk-toggleable__label {background-color: #d4ebff;}#sk-container-id-1 div.sk-serial::before {content: \"\";position: absolute;border-left: 1px solid gray;box-sizing: border-box;top: 0;bottom: 0;left: 50%;z-index: 0;}#sk-container-id-1 div.sk-serial {display: flex;flex-direction: column;align-items: center;background-color: white;padding-right: 0.2em;padding-left: 0.2em;position: relative;}#sk-container-id-1 div.sk-item {position: relative;z-index: 1;}#sk-container-id-1 div.sk-parallel {display: flex;align-items: stretch;justify-content: center;background-color: white;position: relative;}#sk-container-id-1 div.sk-item::before, #sk-container-id-1 div.sk-parallel-item::before {content: \"\";position: absolute;border-left: 1px solid gray;box-sizing: border-box;top: 0;bottom: 0;left: 50%;z-index: -1;}#sk-container-id-1 div.sk-parallel-item {display: flex;flex-direction: column;z-index: 1;position: relative;background-color: white;}#sk-container-id-1 div.sk-parallel-item:first-child::after {align-self: flex-end;width: 50%;}#sk-container-id-1 div.sk-parallel-item:last-child::after {align-self: flex-start;width: 50%;}#sk-container-id-1 div.sk-parallel-item:only-child::after {width: 0;}#sk-container-id-1 div.sk-dashed-wrapped {border: 1px dashed gray;margin: 0 0.4em 0.5em 0.4em;box-sizing: border-box;padding-bottom: 0.4em;background-color: white;}#sk-container-id-1 div.sk-label label {font-family: monospace;font-weight: bold;display: inline-block;line-height: 1.2em;}#sk-container-id-1 div.sk-label-container {text-align: center;}#sk-container-id-1 div.sk-container {/* jupyter's `normalize.less` sets `[hidden] { display: none; }` but bootstrap.min.css set `[hidden] { display: none !important; }` so we also need the `!important` here to be able to override the default hidden behavior on the sphinx rendered scikit-learn.org. See: https://github.com/scikit-learn/scikit-learn/issues/21755 */display: inline-block !important;position: relative;}#sk-container-id-1 div.sk-text-repr-fallback {display: none;}</style><div id=\"sk-container-id-1\" class=\"sk-top-container\"><div class=\"sk-text-repr-fallback\"><pre>SVC(kernel=&#x27;linear&#x27;)</pre><b>In a Jupyter environment, please rerun this cell to show the HTML representation or trust the notebook. <br />On GitHub, the HTML representation is unable to render, please try loading this page with nbviewer.org.</b></div><div class=\"sk-container\" hidden><div class=\"sk-item\"><div class=\"sk-estimator sk-toggleable\"><input class=\"sk-toggleable__control sk-hidden--visually\" id=\"sk-estimator-id-1\" type=\"checkbox\" checked><label for=\"sk-estimator-id-1\" class=\"sk-toggleable__label sk-toggleable__label-arrow\">SVC</label><div class=\"sk-toggleable__content\"><pre>SVC(kernel=&#x27;linear&#x27;)</pre></div></div></div></div></div>"
      ],
      "text/plain": [
       "SVC(kernel='linear')"
      ]
     },
     "execution_count": 8,
     "metadata": {},
     "output_type": "execute_result"
    }
   ],
   "source": [
    "loader = Dataloader(None, None, 'iris', 'Iris-setosa', 'Iris-virginica')\n",
    "print(f\"Exporting iris to python... \")\n",
    "data = loader.export_to_python()\n",
    "X_shape = loader.X_train_shape\n",
    "X_train = data[0]\n",
    "y_train = data[1]\n",
    "y = array_to_matrix(y_train,2)\n",
    "X = array_to_matrix(X_train,X_shape[1])\n",
    "y = np.array([np.argmax(np.append(i,0)) for i in y])\n",
    "clf.fit(X, y) "
   ]
  },
  {
   "cell_type": "markdown",
   "metadata": {},
   "source": [
    "#### Result"
   ]
  },
  {
   "cell_type": "code",
   "execution_count": 9,
   "metadata": {},
   "outputs": [
    {
     "name": "stdout",
     "output_type": "stream",
     "text": [
      "W = [[ 0.09770021 -0.13776356  0.66345363  0.65728682]]\n",
      "b = 0.1394514488987482\n"
     ]
    }
   ],
   "source": [
    "w_sklearn = clf.coef_.reshape(-1, 1)\n",
    "b_sklearn = clf.intercept_[0]\n",
    "print('W =',w_sklearn.T)\n",
    "print('b =',b_sklearn)"
   ]
  },
  {
   "cell_type": "markdown",
   "metadata": {},
   "source": [
    "#### Test"
   ]
  },
  {
   "cell_type": "code",
   "execution_count": 10,
   "metadata": {},
   "outputs": [
    {
     "name": "stdout",
     "output_type": "stream",
     "text": [
      "[1 1 1 0 0 0 0 1 0 0 0 0 1 0 1 0 1 1 0 0]\n",
      "Accuracy: 1.0\n",
      "Precision: 1.0\n",
      "Recall: 1.0\n",
      "F1-score: 1.0\n"
     ]
    }
   ],
   "source": [
    "X_test = array_to_matrix(data[2],X_shape[1])\n",
    "y_test = array_to_matrix(data[3],2)\n",
    "y_test = np.array([np.argmax(np.append(i,0)) for i in y_test])\n",
    "\n",
    "y_pred = clf.predict(X_test)\n",
    "accuracy = accuracy_score(y_test, y_pred)\n",
    "precision = precision_score(y_test, y_pred)\n",
    "recall = recall_score(y_test, y_pred)\n",
    "f1 = f1_score(y_test, y_pred)\n",
    "print(y_pred)\n",
    "\n",
    "print(\"Accuracy:\", accuracy)\n",
    "print(\"Precision:\", precision)\n",
    "print(\"Recall:\", recall)\n",
    "print(\"F1-score:\", f1)\n"
   ]
  },
  {
   "cell_type": "markdown",
   "metadata": {},
   "source": [
    "## Mushroom Dataset"
   ]
  },
  {
   "cell_type": "code",
   "execution_count": 11,
   "metadata": {},
   "outputs": [
    {
     "name": "stdout",
     "output_type": "stream",
     "text": [
      "fetching mushroom dataset\n",
      "Dataset:  mushroom\n",
      "X_train:  [[-0.21699152  0.14012794 -0.98389939 -0.84322964  1.3573133   0.16289645\n",
      "  -0.43886364  1.49468272 -1.35889624  0.87351064  1.35578135  0.68377765\n",
      "  -0.89305291  0.0965768   0.63199138  0.          0.14203663 -0.25613174\n",
      "  -1.27221574  1.42842641  0.28432981 -0.8771691 ]\n",
      " [ 1.02971224  0.14012794 -0.19824983 -0.84322964 -1.01956488  0.16289645\n",
      "  -0.43886364  1.49468272 -1.35889624  0.87351064  1.35578135 -0.9254372\n",
      "   0.58638466  0.62244139  0.63199138  0.          0.14203663 -0.25613174\n",
      "  -1.27221574  1.42842641  0.28432981  1.44858865]]\n",
      "y_train:  [[-1.  1.]\n",
      " [-1.  1.]]\n",
      "X_test:  [[-0.8403434  -1.48615695 -0.19824983 -0.84322964  0.40656203  0.16289645\n",
      "   2.27861212 -0.66903831 -0.51147238  0.87351064  0.20869036  0.68377765\n",
      "  -2.37249048  0.62244139  0.63199138  0.          0.14203663 -0.25613174\n",
      "  -1.27221574 -0.2504706  -0.5143892  -0.29572966]\n",
      " [-0.8403434   0.14012794 -0.98389939 -0.84322964  1.83268894  0.16289645\n",
      "  -0.43886364  1.49468272 -1.35889624  0.87351064  1.35578135  0.68377765\n",
      "   0.58638466  0.0965768   0.10765539  0.          0.14203663 -0.25613174\n",
      "  -1.27221574  1.42842641  0.28432981  0.28570978]]\n",
      "y_test:  [[ 1. -1.]\n",
      " [-1.  1.]]\n",
      "(6499, 22) (6499, 2) (1625, 22) (1625, 2)\n",
      "Exporting mushroom to python... \n"
     ]
    },
    {
     "name": "stderr",
     "output_type": "stream",
     "text": [
      "c:\\Users\\ACER\\Documents\\AI\\KDL\\KDL\\utils.py:184: SettingWithCopyWarning: \n",
      "A value is trying to be set on a copy of a slice from a DataFrame.\n",
      "Try using .loc[row_indexer,col_indexer] = value instead\n",
      "\n",
      "See the caveats in the documentation: https://pandas.pydata.org/pandas-docs/stable/user_guide/indexing.html#returning-a-view-versus-a-copy\n",
      "  X.loc[:, col] = le.fit_transform(X[col])\n",
      "c:\\Users\\ACER\\Documents\\AI\\KDL\\KDL\\utils.py:184: SettingWithCopyWarning: \n",
      "A value is trying to be set on a copy of a slice from a DataFrame.\n",
      "Try using .loc[row_indexer,col_indexer] = value instead\n",
      "\n",
      "See the caveats in the documentation: https://pandas.pydata.org/pandas-docs/stable/user_guide/indexing.html#returning-a-view-versus-a-copy\n",
      "  X.loc[:, col] = le.fit_transform(X[col])\n",
      "c:\\Users\\ACER\\Documents\\AI\\KDL\\KDL\\utils.py:184: SettingWithCopyWarning: \n",
      "A value is trying to be set on a copy of a slice from a DataFrame.\n",
      "Try using .loc[row_indexer,col_indexer] = value instead\n",
      "\n",
      "See the caveats in the documentation: https://pandas.pydata.org/pandas-docs/stable/user_guide/indexing.html#returning-a-view-versus-a-copy\n",
      "  X.loc[:, col] = le.fit_transform(X[col])\n",
      "c:\\Users\\ACER\\Documents\\AI\\KDL\\KDL\\utils.py:184: SettingWithCopyWarning: \n",
      "A value is trying to be set on a copy of a slice from a DataFrame.\n",
      "Try using .loc[row_indexer,col_indexer] = value instead\n",
      "\n",
      "See the caveats in the documentation: https://pandas.pydata.org/pandas-docs/stable/user_guide/indexing.html#returning-a-view-versus-a-copy\n",
      "  X.loc[:, col] = le.fit_transform(X[col])\n",
      "c:\\Users\\ACER\\Documents\\AI\\KDL\\KDL\\utils.py:184: SettingWithCopyWarning: \n",
      "A value is trying to be set on a copy of a slice from a DataFrame.\n",
      "Try using .loc[row_indexer,col_indexer] = value instead\n",
      "\n",
      "See the caveats in the documentation: https://pandas.pydata.org/pandas-docs/stable/user_guide/indexing.html#returning-a-view-versus-a-copy\n",
      "  X.loc[:, col] = le.fit_transform(X[col])\n",
      "c:\\Users\\ACER\\Documents\\AI\\KDL\\KDL\\utils.py:184: SettingWithCopyWarning: \n",
      "A value is trying to be set on a copy of a slice from a DataFrame.\n",
      "Try using .loc[row_indexer,col_indexer] = value instead\n",
      "\n",
      "See the caveats in the documentation: https://pandas.pydata.org/pandas-docs/stable/user_guide/indexing.html#returning-a-view-versus-a-copy\n",
      "  X.loc[:, col] = le.fit_transform(X[col])\n",
      "c:\\Users\\ACER\\Documents\\AI\\KDL\\KDL\\utils.py:184: SettingWithCopyWarning: \n",
      "A value is trying to be set on a copy of a slice from a DataFrame.\n",
      "Try using .loc[row_indexer,col_indexer] = value instead\n",
      "\n",
      "See the caveats in the documentation: https://pandas.pydata.org/pandas-docs/stable/user_guide/indexing.html#returning-a-view-versus-a-copy\n",
      "  X.loc[:, col] = le.fit_transform(X[col])\n",
      "c:\\Users\\ACER\\Documents\\AI\\KDL\\KDL\\utils.py:184: SettingWithCopyWarning: \n",
      "A value is trying to be set on a copy of a slice from a DataFrame.\n",
      "Try using .loc[row_indexer,col_indexer] = value instead\n",
      "\n",
      "See the caveats in the documentation: https://pandas.pydata.org/pandas-docs/stable/user_guide/indexing.html#returning-a-view-versus-a-copy\n",
      "  X.loc[:, col] = le.fit_transform(X[col])\n",
      "c:\\Users\\ACER\\Documents\\AI\\KDL\\KDL\\utils.py:184: SettingWithCopyWarning: \n",
      "A value is trying to be set on a copy of a slice from a DataFrame.\n",
      "Try using .loc[row_indexer,col_indexer] = value instead\n",
      "\n",
      "See the caveats in the documentation: https://pandas.pydata.org/pandas-docs/stable/user_guide/indexing.html#returning-a-view-versus-a-copy\n",
      "  X.loc[:, col] = le.fit_transform(X[col])\n",
      "c:\\Users\\ACER\\Documents\\AI\\KDL\\KDL\\utils.py:184: SettingWithCopyWarning: \n",
      "A value is trying to be set on a copy of a slice from a DataFrame.\n",
      "Try using .loc[row_indexer,col_indexer] = value instead\n",
      "\n",
      "See the caveats in the documentation: https://pandas.pydata.org/pandas-docs/stable/user_guide/indexing.html#returning-a-view-versus-a-copy\n",
      "  X.loc[:, col] = le.fit_transform(X[col])\n",
      "c:\\Users\\ACER\\Documents\\AI\\KDL\\KDL\\utils.py:184: SettingWithCopyWarning: \n",
      "A value is trying to be set on a copy of a slice from a DataFrame.\n",
      "Try using .loc[row_indexer,col_indexer] = value instead\n",
      "\n",
      "See the caveats in the documentation: https://pandas.pydata.org/pandas-docs/stable/user_guide/indexing.html#returning-a-view-versus-a-copy\n",
      "  X.loc[:, col] = le.fit_transform(X[col])\n",
      "c:\\Users\\ACER\\Documents\\AI\\KDL\\KDL\\utils.py:184: SettingWithCopyWarning: \n",
      "A value is trying to be set on a copy of a slice from a DataFrame.\n",
      "Try using .loc[row_indexer,col_indexer] = value instead\n",
      "\n",
      "See the caveats in the documentation: https://pandas.pydata.org/pandas-docs/stable/user_guide/indexing.html#returning-a-view-versus-a-copy\n",
      "  X.loc[:, col] = le.fit_transform(X[col])\n",
      "c:\\Users\\ACER\\Documents\\AI\\KDL\\KDL\\utils.py:184: SettingWithCopyWarning: \n",
      "A value is trying to be set on a copy of a slice from a DataFrame.\n",
      "Try using .loc[row_indexer,col_indexer] = value instead\n",
      "\n",
      "See the caveats in the documentation: https://pandas.pydata.org/pandas-docs/stable/user_guide/indexing.html#returning-a-view-versus-a-copy\n",
      "  X.loc[:, col] = le.fit_transform(X[col])\n",
      "c:\\Users\\ACER\\Documents\\AI\\KDL\\KDL\\utils.py:184: SettingWithCopyWarning: \n",
      "A value is trying to be set on a copy of a slice from a DataFrame.\n",
      "Try using .loc[row_indexer,col_indexer] = value instead\n",
      "\n",
      "See the caveats in the documentation: https://pandas.pydata.org/pandas-docs/stable/user_guide/indexing.html#returning-a-view-versus-a-copy\n",
      "  X.loc[:, col] = le.fit_transform(X[col])\n",
      "c:\\Users\\ACER\\Documents\\AI\\KDL\\KDL\\utils.py:184: SettingWithCopyWarning: \n",
      "A value is trying to be set on a copy of a slice from a DataFrame.\n",
      "Try using .loc[row_indexer,col_indexer] = value instead\n",
      "\n",
      "See the caveats in the documentation: https://pandas.pydata.org/pandas-docs/stable/user_guide/indexing.html#returning-a-view-versus-a-copy\n",
      "  X.loc[:, col] = le.fit_transform(X[col])\n",
      "c:\\Users\\ACER\\Documents\\AI\\KDL\\KDL\\utils.py:184: SettingWithCopyWarning: \n",
      "A value is trying to be set on a copy of a slice from a DataFrame.\n",
      "Try using .loc[row_indexer,col_indexer] = value instead\n",
      "\n",
      "See the caveats in the documentation: https://pandas.pydata.org/pandas-docs/stable/user_guide/indexing.html#returning-a-view-versus-a-copy\n",
      "  X.loc[:, col] = le.fit_transform(X[col])\n",
      "c:\\Users\\ACER\\Documents\\AI\\KDL\\KDL\\utils.py:184: SettingWithCopyWarning: \n",
      "A value is trying to be set on a copy of a slice from a DataFrame.\n",
      "Try using .loc[row_indexer,col_indexer] = value instead\n",
      "\n",
      "See the caveats in the documentation: https://pandas.pydata.org/pandas-docs/stable/user_guide/indexing.html#returning-a-view-versus-a-copy\n",
      "  X.loc[:, col] = le.fit_transform(X[col])\n",
      "c:\\Users\\ACER\\Documents\\AI\\KDL\\KDL\\utils.py:184: SettingWithCopyWarning: \n",
      "A value is trying to be set on a copy of a slice from a DataFrame.\n",
      "Try using .loc[row_indexer,col_indexer] = value instead\n",
      "\n",
      "See the caveats in the documentation: https://pandas.pydata.org/pandas-docs/stable/user_guide/indexing.html#returning-a-view-versus-a-copy\n",
      "  X.loc[:, col] = le.fit_transform(X[col])\n",
      "c:\\Users\\ACER\\Documents\\AI\\KDL\\KDL\\utils.py:184: SettingWithCopyWarning: \n",
      "A value is trying to be set on a copy of a slice from a DataFrame.\n",
      "Try using .loc[row_indexer,col_indexer] = value instead\n",
      "\n",
      "See the caveats in the documentation: https://pandas.pydata.org/pandas-docs/stable/user_guide/indexing.html#returning-a-view-versus-a-copy\n",
      "  X.loc[:, col] = le.fit_transform(X[col])\n",
      "c:\\Users\\ACER\\Documents\\AI\\KDL\\KDL\\utils.py:184: SettingWithCopyWarning: \n",
      "A value is trying to be set on a copy of a slice from a DataFrame.\n",
      "Try using .loc[row_indexer,col_indexer] = value instead\n",
      "\n",
      "See the caveats in the documentation: https://pandas.pydata.org/pandas-docs/stable/user_guide/indexing.html#returning-a-view-versus-a-copy\n",
      "  X.loc[:, col] = le.fit_transform(X[col])\n",
      "c:\\Users\\ACER\\Documents\\AI\\KDL\\KDL\\utils.py:184: SettingWithCopyWarning: \n",
      "A value is trying to be set on a copy of a slice from a DataFrame.\n",
      "Try using .loc[row_indexer,col_indexer] = value instead\n",
      "\n",
      "See the caveats in the documentation: https://pandas.pydata.org/pandas-docs/stable/user_guide/indexing.html#returning-a-view-versus-a-copy\n",
      "  X.loc[:, col] = le.fit_transform(X[col])\n",
      "c:\\Users\\ACER\\Documents\\AI\\KDL\\KDL\\utils.py:184: SettingWithCopyWarning: \n",
      "A value is trying to be set on a copy of a slice from a DataFrame.\n",
      "Try using .loc[row_indexer,col_indexer] = value instead\n",
      "\n",
      "See the caveats in the documentation: https://pandas.pydata.org/pandas-docs/stable/user_guide/indexing.html#returning-a-view-versus-a-copy\n",
      "  X.loc[:, col] = le.fit_transform(X[col])\n"
     ]
    }
   ],
   "source": [
    "mushroom = Dataloader(None, None, 'mushroom', None, None)\n",
    "print(f\"Exporting mushroom to python... \")\n",
    "data = mushroom.export_to_python()"
   ]
  },
  {
   "cell_type": "code",
   "execution_count": 12,
   "metadata": {},
   "outputs": [
    {
     "name": "stdout",
     "output_type": "stream",
     "text": [
      "Training time: 0.7565584182739258 seconds\n"
     ]
    }
   ],
   "source": [
    "C = 1.0\n",
    "clf_mushroom = SVC(kernel = 'linear', C = C)\n",
    "X_shape = mushroom.X_train_shape\n",
    "X_train = data[0]\n",
    "y_train = data[1]\n",
    "y = array_to_matrix(y_train,2)\n",
    "X = array_to_matrix(X_train,X_shape[1])\n",
    "y = np.array([np.argmax(np.append(i,0)) for i in y])\n",
    "\n",
    "start_time = time.time()\n",
    "clf_mushroom.fit(X, y) \n",
    "training_time = time.time() - start_time\n",
    "print(\"Training time:\", training_time, \"seconds\")\n"
   ]
  },
  {
   "cell_type": "code",
   "execution_count": 13,
   "metadata": {},
   "outputs": [
    {
     "name": "stdout",
     "output_type": "stream",
     "text": [
      "W = [[ 2.65812327e-06  2.87688240e-04 -3.81343132e-05 -1.24107312e+00\n",
      "  -3.99120878e-01 -2.44862883e-02 -3.54136609e+00  4.01116900e+00\n",
      "  -7.06083927e-04  9.77820723e-01 -3.93618812e+00 -1.44457578e+00\n",
      "  -4.40555827e-05 -2.38037885e-05  1.93875009e-04  0.00000000e+00\n",
      "   4.02360367e-01  1.07740314e+00 -1.82613065e-01 -2.09304631e-03\n",
      "  -2.05477783e+00 -5.02723343e-05]]\n",
      "b = -0.817683691364495\n"
     ]
    }
   ],
   "source": [
    "w_sklearn = clf_mushroom.coef_.reshape(-1, 1)\n",
    "b_sklearn = clf_mushroom.intercept_[0]\n",
    "print('W =',w_sklearn.T)\n",
    "print('b =',b_sklearn)"
   ]
  },
  {
   "cell_type": "code",
   "execution_count": 14,
   "metadata": {},
   "outputs": [
    {
     "name": "stdout",
     "output_type": "stream",
     "text": [
      "[0 1 1 ... 1 1 1]\n",
      "Accuracy: 0.9655384615384616\n",
      "Precision: 0.9571788413098237\n",
      "Recall: 0.9718670076726342\n",
      "F1-score: 0.9644670050761421\n"
     ]
    }
   ],
   "source": [
    "X_test = array_to_matrix(data[2],X_shape[1])\n",
    "y_test = array_to_matrix(data[3],2)\n",
    "y_test = np.array([np.argmax(np.append(i,0)) for i in y_test])\n",
    "\n",
    "y_pred = clf_mushroom.predict(X_test)\n",
    "accuracy = accuracy_score(y_test, y_pred)\n",
    "print(y_pred)\n",
    "print(\"Accuracy:\", accuracy)\n",
    "\n",
    "precision = precision_score(y_test, y_pred)\n",
    "recall = recall_score(y_test, y_pred)\n",
    "f1 = f1_score(y_test, y_pred)\n",
    "\n",
    "print(\"Precision:\", precision)\n",
    "print(\"Recall:\", recall)\n",
    "print(\"F1-score:\", f1)"
   ]
  },
  {
   "cell_type": "markdown",
   "metadata": {},
   "source": [
    "## MNIST dataset"
   ]
  },
  {
   "cell_type": "code",
   "execution_count": 18,
   "metadata": {},
   "outputs": [
    {
     "name": "stdout",
     "output_type": "stream",
     "text": [
      "[1 0 1 0 0 1 0 0 1 1]\n",
      "Dataset:  mnist\n",
      "X_train:  [[0. 0. 0. ... 0. 0. 0.]\n",
      " [0. 0. 0. ... 0. 0. 0.]]\n",
      "y_train:  [[ 1. -1.]\n",
      " [-1.  1.]]\n",
      "X_test:  [[0. 0. 0. ... 0. 0. 0.]\n",
      " [0. 0. 0. ... 0. 0. 0.]]\n",
      "y_test:  [[-1.  1.]\n",
      " [ 1. -1.]]\n",
      "(12665, 784) (12665, 2) (2115, 784) (2115, 2)\n",
      "Exporting mnist to python... \n"
     ]
    }
   ],
   "source": [
    "from utils import Dataloader\n",
    "mnist = Dataloader(None, None, 'mnist', None, None)\n",
    "print(f\"Exporting mnist to python... \")\n",
    "data = mnist.export_to_python()"
   ]
  },
  {
   "cell_type": "code",
   "execution_count": 19,
   "metadata": {},
   "outputs": [
    {
     "name": "stdout",
     "output_type": "stream",
     "text": [
      "Training time: 2.0065367221832275 seconds\n"
     ]
    }
   ],
   "source": [
    "C = 1.0\n",
    "clf_mnist = SVC(kernel = 'linear', C = C)\n",
    "X_shape = mnist.X_train_shape\n",
    "X_train = data[0]\n",
    "y_train = data[1]\n",
    "y = array_to_matrix(y_train,2)\n",
    "X = array_to_matrix(X_train,X_shape[1])\n",
    "y = np.array([np.argmax(np.append(i,0)) for i in y])\n",
    "\n",
    "start_time = time.time()\n",
    "clf_mnist.fit(X, y) \n",
    "training_time = time.time() - start_time\n",
    "print(\"Training time:\", training_time, \"seconds\")"
   ]
  },
  {
   "cell_type": "code",
   "execution_count": 20,
   "metadata": {},
   "outputs": [
    {
     "name": "stdout",
     "output_type": "stream",
     "text": [
      "[1 0 1 ... 1 0 1]\n",
      "Accuracy: 0.9995271867612293\n",
      "Precision: 0.9991197183098591\n",
      "Recall: 1.0\n",
      "F1-score: 0.9995596653456628\n"
     ]
    }
   ],
   "source": [
    "X_test = array_to_matrix(data[2],X_shape[1])\n",
    "y_test = array_to_matrix(data[3],2)\n",
    "y_test = np.array([np.argmax(np.append(i,0)) for i in y_test])\n",
    "\n",
    "y_pred = clf_mnist.predict(X_test)\n",
    "accuracy = accuracy_score(y_test, y_pred)\n",
    "print(y_pred)\n",
    "print(\"Accuracy:\", accuracy)\n",
    "\n",
    "precision = precision_score(y_test, y_pred)\n",
    "recall = recall_score(y_test, y_pred)\n",
    "f1 = f1_score(y_test, y_pred)\n",
    "print(\"Precision:\", precision)\n",
    "print(\"Recall:\", recall)\n",
    "print(\"F1-score:\", f1)"
   ]
  }
 ],
 "metadata": {
  "kernelspec": {
   "display_name": "Python 3",
   "language": "python",
   "name": "python3"
  },
  "language_info": {
   "codemirror_mode": {
    "name": "ipython",
    "version": 3
   },
   "file_extension": ".py",
   "mimetype": "text/x-python",
   "name": "python",
   "nbconvert_exporter": "python",
   "pygments_lexer": "ipython3",
   "version": "3.10.9"
  },
  "orig_nbformat": 4
 },
 "nbformat": 4,
 "nbformat_minor": 2
}
